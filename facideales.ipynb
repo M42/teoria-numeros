{
 "cells": [
  {
   "cell_type": "markdown",
   "metadata": {},
   "source": [
    "# Factorización de Ideales"
   ]
  },
  {
   "cell_type": "markdown",
   "metadata": {},
   "source": [
    "Como hasta ahora denotaremos $\\mathbb{O}$ al anillo de enteros de $\\mathbb Q (\\sqrt d )$, este será $\\mathbb O =\\mathbb Z [e]$, con: \n",
    "\n",
    "$$ \n",
    "e = \\sqrt d \\qquad\\mbox{si}\\quad d\\not\\equiv 1\\mod 4 \\quad  \\mbox{y} \\\\  \\quad e = \\frac{1+\\sqrt d}{2} \\quad \\quad\\mbox{si}\\quad d\\equiv 1\\mod 4.\n",
    "$$\n",
    "\n",
    "Voy a denotar $f$ al polinomio irreducible de $e$. Si $p$ es un primo, $f_p$ denoratá el polinomio $f$ módulo $p$.\n",
    "\n",
    "## Debemos saber:\n",
    "\n",
    "- Un ideal $I\\leq \\mathbb O$ siempre puede ser generado por dos enteros algebráicos $I=<\\alpha,\\beta>$.\n",
    "- Un sistema de generadores del grupo abeliano $(I,+)$ está dado por $\\{\\alpha,\\alpha*e,\\beta,\\beta*e\\}$.\n",
    "- La norma de $I$ es el orden del grupo abeliano cociente $\\mathbb O/I$. Es un entero positivo y pertenece a $I$.\n",
    "- Un ideal $I$ divide a otro $J$ si, y solo si, $J\\subseteq I$. Denotamos $I|J$ cuando $I$ divide a $J$. En este caso $J*I^{-1}$ es un ideal de $\\mathbb O$.\n",
    "- Si factorizamos la norma de $I$, $norma(I)=p_1,p_2,\\ldots,p_r$, y tomamos un ideal primo $\\mathfrak P$ que divida a $I$, entonces $norma(I)\\in I\\subseteq \\mathfrak P$ y por tanto existe un $i$ tal que $p_i\\in \\mathfrak P$, o equivalentemente $\\mathfrak P|p_i$ por tanto los ideales primos que dividen a $I$ están entre los ideales primos que dividen a los primos que dividen a $norma(I)$.\n",
    "- Si $p\\in \\mathbb Z$ es un primo, entonces:\n",
    "    - El ideal generado por $p$, $<p>$, es primo en $\\mathbb O$ si, y solo si, el polinomio $f_p$ es irreducible. En este caso $<p>^{-1}=\\frac{1}{p}\\mathbb O$, basta observar que $<p>*\\frac{1}{p}\\mathbb O =\\mathbb O $.\n",
    "    - Si $f_p$ es reducible, $f_p=(x-a)*(x-b)$, entonces $$<p>=\\mathfrak P_1 *\\mathfrak P_2,$$ con $\\mathfrak P_1=<p,e-a>$ y $\\mathfrak P_2 =<p,e-b>$ los únicos ideales primos que dividen a $p$. \n",
    "    - Además, en este caso, \n",
    "    $$ \\mathfrak P_1^{-1}= \\frac{1}{p}<p,e-b> \\quad\\mbox{y}\\quad \\mathfrak P_2^{-1}= \\frac{1}{p}<p,e-a>$$\n",
    "- Un ideal $\\mathfrak P$ es primo si:\n",
    "    - Su norma es un primo $p$ de $\\mathbb Z$ o bien\n",
    "    - Su norma es un primo $p$ al cuadrado, norma$(\\mathfrak P )=p^2$, $p\\in\\mathfrak P$ y $f_p$ es irreducible. En este caso $\\mathfrak P$ es el ideal principal generado por $p$."
   ]
  },
  {
   "cell_type": "markdown",
   "metadata": {},
   "source": [
    "## Funciones auxiliares."
   ]
  },
  {
   "cell_type": "markdown",
   "metadata": {},
   "source": [
    "- <span style=\"color:red\">LR</span> para calcular la matriz reducida asociada a una matriz. <span style=\"color:green\">Ojo esta función debes definirla de forma recursiva (no puedes utilizar while).</span>\n",
    "- <span style=\"color:red\">matrizrel</span> para calcular la matriz de relatores asociada a un ideal.\n",
    "- <span style=\"color:red\">norma</span> para calcular la norma de un ideal.\n",
    "- <span style=\"color:red\">esO</span> para ver si un ideal es el total.\n",
    "- <span style=\"color:red\">pertenece</span> para ver si un elemento pertenece o no a un ideal.\n",
    "- <span style=\"color:red\">divide</span> para ver si un ideal divide a otro.\n",
    "- <span style=\"color:red\">productodos</span> para calcular dos generadores del producto de dos ideales.\n",
    "- <span style=\"color:red\">producto</span> para calcular dos generadores del producto de una lista de ideales.\n",
    "- <span style=\"color:red\">divisores($p$,d)</span>, con $p$ un primo de $\\mathbb Z$ positivo, para calcular los divisores de $p$.\n",
    "- <span style=\"color:red\">es_primo</span> para ver si un ideal es primo.\n",
    "- <span style=\"color:red\">cociente</span> para calcular el cociente $I*\\mathfrak P^{-1}$ en el caso en que el idea primo $\\mathfrak P$ divida a $I$."
   ]
  },
  {
   "cell_type": "code",
   "execution_count": 1,
   "metadata": {
    "collapsed": true
   },
   "outputs": [],
   "source": [
    "from sympy import *"
   ]
  },
  {
   "cell_type": "code",
   "execution_count": 2,
   "metadata": {},
   "outputs": [
    {
     "data": {
      "text/plain": [
       "[[2, 1], [71/2, 3/2], [4, 2], [71, 3]]"
      ]
     },
     "execution_count": 2,
     "metadata": {},
     "output_type": "execute_result"
    }
   ],
   "source": [
    "# Prueba la función de la matriz de relatores\n",
    "from facidealesMRG import *\n",
    "idealtest = [2+sqrt(69), 4+2*sqrt(69)]\n",
    "\n",
    "matrizrel(idealtest, 69)"
   ]
  },
  {
   "cell_type": "code",
   "execution_count": 3,
   "metadata": {},
   "outputs": [
    {
     "data": {
      "text/plain": [
       "[[2, 1], [0, -65/4], [0, 0], [0, 0]]"
      ]
     },
     "execution_count": 3,
     "metadata": {},
     "output_type": "execute_result"
    }
   ],
   "source": [
    "LR(_)"
   ]
  },
  {
   "cell_type": "code",
   "execution_count": 4,
   "metadata": {},
   "outputs": [
    {
     "data": {
      "text/plain": [
       "-65/2"
      ]
     },
     "execution_count": 4,
     "metadata": {},
     "output_type": "execute_result"
    }
   ],
   "source": [
    "normaIdeal(idealtest, 69)"
   ]
  },
  {
   "cell_type": "code",
   "execution_count": 5,
   "metadata": {},
   "outputs": [
    {
     "data": {
      "text/plain": [
       "True"
      ]
     },
     "execution_count": 5,
     "metadata": {},
     "output_type": "execute_result"
    }
   ],
   "source": [
    "pertenece(2+sqrt(69), idealtest, 69)"
   ]
  },
  {
   "cell_type": "markdown",
   "metadata": {},
   "source": [
    "## Algoritmo de factorización"
   ]
  },
  {
   "cell_type": "markdown",
   "metadata": {},
   "source": [
    "- ** Imput: ** Un ideal $I\\leq \\mathbb O$, o equivalentemente un sistema de generadores del ideal, normalemente dos.\n",
    "- ** Output: ** Una lista de ideales primos $[\\mathfrak P_1,\\ldots,\\mathfrak P_r]$ tal que $I=\\mathfrak P_1\\ldots \\mathfrak P_r$ o equivalentemente una lista de pares, los generadores de los ideales primos.\n",
    "\n",
    "\n",
    "   - ** Paso 1.-** Si esO$(I,d)=true$ fin, $I$ es el total.\n",
    "   - ** Paso 2.-** Si es_ primo$(I,d)=true$ fin, la lista de divisores primos de $I$ es $[I]$.\n",
    "\n",
    "En otro caso:\n",
    "   - ** Paso 3.-** Calculamos la norma de $I$.\n",
    "   - ** Paso 4.-** Factorizamos la norma de $I$ en $\\mathbb Z$,  $$norma(I)=p_1 p_2\\ldots p_r.$$\n",
    "   - ** Paso 5.-** Fijamos el primer primo $p_1$ y calculamos la lista $L$ de ideales primos que dividen a $p_1$. Esta lista tiene un elemento, si $p_1$ es primo en $\\mathbb O$, o dos, si no lo es. \n",
    "   - ** Paso 6.-** Tomamos $\\mathfrak P\\in L$ comprobamos si $\\mathfrak P$ divide a $I$.\n",
    "   - ** Paso 7.-** Si $\\mathfrak P$ divide a $I$ en el **Paso 6**, añadimos $\\mathfrak P$ a la lista de divisores de $I$, tomamos \n",
    "   $$I=cociente(I,\\mathfrak P)$$\n",
    "      y volvemos al **Paso 1**. \n",
    "   - ** Paso 8.-** Si $\\mathfrak P$ no divide a $I$ en el **Paso 6** elejimos el siguiente $\\mathfrak P$ en $L$ y volvemos al **Paso 6**.\n",
    "\n",
    "El algoritmo acaba cuando $I$ es el total o un ideal primo."
   ]
  },
  {
   "cell_type": "markdown",
   "metadata": {},
   "source": [
    "###  Ejercicio1.-"
   ]
  },
  {
   "cell_type": "markdown",
   "metadata": {},
   "source": [
    "Los enteros $d$ de la siguiente lista $L$ son libres de cuadrados."
   ]
  },
  {
   "cell_type": "code",
   "execution_count": 1,
   "metadata": {
    "collapsed": true
   },
   "outputs": [],
   "source": [
    "L=[51, 53, 55, 57, 58, 59, 61, 62, 65, 66, 69, 70, 71, 73, 74, 77, 78, 79, 82, 83, \n",
    " 85, 86, 87, 89, 91, 93, 94, 95, 97, 101, 102, 103, 105, 106, 107, 109, 110, 111, 113, \n",
    " 114, 115, 118, 119, 122, 123, 127, 129, 130, 131, 133, 134, 137, 138, 139, 141, 142, 143, \n",
    " 145, 146, 149, 151, 154, 155, 157, 158, 159, 161, 165, 166, 167, 170, 173, 174, 177, 178, \n",
    " 179, 181, 182, 183, 185, 186, 187, 190, 191, 193, 194, 195, 197, 199]"
   ]
  },
  {
   "cell_type": "markdown",
   "metadata": {},
   "source": [
    "- Toma $k$=tres últimas cifras de tu DNI módulo 200. \n",
    "- Toma $d_1$ y $d_2$ los números en $L$ más próximos a $k$ que sean congruente y no congruente con 1 módulo 4 respectivamente.\n",
    "- Elige ideales $I_1$ e $I_2$ en el anillo de enteros de  $\\mathbb Q (\\sqrt d_i), i=1,2$, cuyas normas tengan almenos tres factores, y factorízalos."
   ]
  },
  {
   "cell_type": "code",
   "execution_count": 2,
   "metadata": {},
   "outputs": [
    {
     "data": {
      "text/plain": [
       "(69, 70)"
      ]
     },
     "execution_count": 2,
     "metadata": {},
     "output_type": "execute_result"
    }
   ],
   "source": [
    "k = (77145669 % 100) % 200\n",
    "d1 = k\n",
    "d2 = k+1\n",
    "d1, d2"
   ]
  },
  {
   "cell_type": "markdown",
   "metadata": {
    "collapsed": true
   },
   "source": [
    "### Ejercicio 2 (Avanzado).-"
   ]
  },
  {
   "cell_type": "markdown",
   "metadata": {},
   "source": [
    "Define una función <span style=\"color:red\">factoriza_id</span> para factorizar ideales. Comprueba que obtienes los mismos resultados que has obtenido en el ejercicio 1."
   ]
  },
  {
   "cell_type": "code",
   "execution_count": 3,
   "metadata": {
    "collapsed": true
   },
   "outputs": [],
   "source": [
    "def factoriza_id(ideal, d):\n",
    "    \n",
    "    # Si es el ideal total, lo devuelve simplemente\n",
    "    if esO(ideal, d):\n",
    "        return [ideal]\n",
    "    \n",
    "    # Norma prima\n",
    "    normaideal = normaIdeal(ideal,d)\n",
    "    if isprime(normaideal):\n",
    "        return normaideal"
   ]
  },
  {
   "cell_type": "code",
   "execution_count": null,
   "metadata": {
    "collapsed": true
   },
   "outputs": [],
   "source": []
  }
 ],
 "metadata": {
  "kernelspec": {
   "display_name": "Python 2",
   "language": "python2",
   "name": "python2"
  },
  "language_info": {
   "codemirror_mode": {
    "name": "ipython",
    "version": 2
   },
   "file_extension": ".py",
   "mimetype": "text/x-python",
   "name": "python",
   "nbconvert_exporter": "python",
   "pygments_lexer": "ipython2",
   "version": "2.7.13"
  }
 },
 "nbformat": 4,
 "nbformat_minor": 1
}
