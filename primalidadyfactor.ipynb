{
 "cells": [
  {
   "cell_type": "markdown",
   "metadata": {},
   "source": [
    "# Factorización y primalidad "
   ]
  },
  {
   "cell_type": "code",
   "execution_count": 1,
   "metadata": {
    "collapsed": true
   },
   "outputs": [],
   "source": [
    "from criptoMRG import *"
   ]
  },
  {
   "cell_type": "markdown",
   "metadata": {},
   "source": [
    "### Tests de Primalidad"
   ]
  },
  {
   "cell_type": "markdown",
   "metadata": {},
   "source": [
    "Utilizaremos la función <span style=\"color:blue\">random</span> para generar aleatoriedad."
   ]
  },
  {
   "cell_type": "code",
   "execution_count": 2,
   "metadata": {
    "collapsed": false
   },
   "outputs": [
    {
     "data": {
      "text/plain": [
       "(0.034010461584207397, 2616506131)"
      ]
     },
     "execution_count": 2,
     "metadata": {},
     "output_type": "execute_result"
    }
   ],
   "source": [
    "import random\n",
    "from random import randint\n",
    "random.random(), random.randint(1, 10**10)"
   ]
  },
  {
   "cell_type": "markdown",
   "metadata": {},
   "source": [
    "## Test 1: Pseudoprimos"
   ]
  },
  {
   "cell_type": "markdown",
   "metadata": {},
   "source": [
    "- **Ejercicio 1.** Define una función <span style=\"color:red\">psp(n)</span> con salida <span style=\"color:green\">(b,true)</span> o <span style=\"color:green\">(b,false)</span> y que haga los siguiente:\n",
    "    1. Elige una base $b$ al azar.\n",
    "    2. Comprueba si $gcd(b,n)=1$. \n",
    "        - Si es falso la función termina con la salida: \n",
    "            - <span style=\"color:green\"> print $gcd(b,n)$ es divisor de $n$</span>.\n",
    "            - (b,false)\n",
    "        - Si es cierto comprueba si $b^{(n-1)}\\equiv 1 \\mbox{ mod } n$, \n",
    "            - Si es falso la salida es <span style=\"color:green\">(b,false)</span>.\n",
    "            - Si es cierto la salida es <span style=\"color:green\">(b,true)</span>. "
   ]
  },
  {
   "cell_type": "markdown",
   "metadata": {},
   "source": [
    "- **Ejecicio 2.** Define una función <span style=\"color:red\">psp(n,k)</span> que realice hasta k veces la función <span style=\"color:red\">psp(n)</span>. \n",
    "    - Si en algún momento n falla el test la función termina con <span style=\"color:green\">(b,false)</span>,\n",
    "    con b la base para la cual n falla el test. \n",
    "    - Si pasa el test para las k bases elegidas la salida será:\n",
    "        - <span style=\"color:green\"> print \"es posible que n sea primo\"</span>\n",
    "        - <span style=\"color:green\"> retun (b,true)</span>\n",
    "   puedes poner la última base o las k bases que has ido eligiendo.\n",
    "    "
   ]
  },
  {
   "cell_type": "code",
   "execution_count": 5,
   "metadata": {
    "collapsed": false
   },
   "outputs": [],
   "source": [
    "# Pseudoprimalidad\n",
    "# Comprueba que n es pseudoprimo en base b\n",
    "def isPsp(n,b):\n",
    "    return gcd(b,n) == 1 and pow(b,n-1,n) == 1\n",
    "\n",
    "\n",
    "# Test simple utilizando una sola base aleatoria\n",
    "def pspTest(n):\n",
    "    \n",
    "    # Elige una base aleatoria\n",
    "    b = random.randint(2,n-1)\n",
    "    if not isPsp(n,b):\n",
    "        return b, False\n",
    "\n",
    "    return b, True\n",
    "\n",
    "\n",
    "# Test de pseudoprimalidad completo\n",
    "def psp(n,k=1):\n",
    "    \n",
    "    # Prueba el test de primalidad simple sobre un conjunto de k bases\n",
    "    # elegidas aleatoriamente.\n",
    "    bases = []\n",
    "    for _ in xrange(k):\n",
    "        \n",
    "        # Si alguna falla, sabemos inmediatamente que no es primo.\n",
    "        b,result = pspTest(n)\n",
    "        if result == False: return (b,False)\n",
    "        bases.append(b)\n",
    "    \n",
    "    # Si todas las bases pasan el test, es posible que sea primo.\n",
    "    print \"Es posible que {} sea primo\".format(n)\n",
    "    return bases,True"
   ]
  },
  {
   "cell_type": "code",
   "execution_count": 6,
   "metadata": {
    "collapsed": false
   },
   "outputs": [
    {
     "name": "stdout",
     "output_type": "stream",
     "text": [
      "Es posible que 29 sea primo\n",
      "Es posible que 523 sea primo\n"
     ]
    },
    {
     "data": {
      "text/plain": [
       "([505, 472, 445, 299, 470, 480, 328, 308, 200, 237, 62, 224], True)"
      ]
     },
     "execution_count": 6,
     "metadata": {},
     "output_type": "execute_result"
    }
   ],
   "source": [
    "psp(29)\n",
    "psp(523,12)"
   ]
  },
  {
   "cell_type": "markdown",
   "metadata": {},
   "source": [
    "## Test 2: Pseudo primos de Euler. Test de Slovay-Strassen"
   ]
  },
  {
   "cell_type": "markdown",
   "metadata": {},
   "source": [
    "### Símbolos de Jacobi y Legendre\n",
    "\n",
    "#### Símbolo de Legendre\n",
    "El símbolo de Legendre se define como:\n",
    "\n",
    "$$\n",
    "\\left(\\frac{a}{p}\\right) = \\left\\{\n",
    "\\begin{array}{rl}\n",
    "0 & \\text{si } a \\equiv 0 \\pmod{p},\\\\\n",
    "1 & \\text{si } a \\not\\equiv 0\\pmod{p} \\text{ y es residuo cuadrático: } \\;a\\equiv x^2\\pmod{p},\\\\\n",
    "-1 & \\text{si } a \\not\\equiv 0\\pmod{p} \\text{ y no es residuo cuadrático.}\n",
    "\\end{array}\n",
    "\\right.\n",
    "$$\n",
    "\n",
    "#### Símbolo de Jacobi\n",
    "El símbolo de Jacobi se define como:\n",
    "\n",
    "$$\n",
    "\\left(\\frac{a}{n}\\right) = \\left(\\frac{a}{p_1}\\right)^{\\alpha_1}\\left(\\frac{a}{p_2}\\right)^{\\alpha_2}\\cdots \\left(\\frac{a}{p_k}\\right)^{\\alpha_k}\n",
    "$$\n",
    "\n",
    "Siendo $n=p_1^{\\alpha_1}p_2^{\\alpha_2}\\cdots p_k^{\\alpha_k}$ la factorización de $n$.\n",
    "\n",
    "#### Ley de reciprocidad cuadrática y propiedades\n",
    "Tanto el símbolo de Jacobi como el símbolo de Legendre cumplen que:\n",
    "\n",
    "$$\n",
    "\\left(\\frac{m}{n}\\right)\\left(\\frac{n}{m}\\right) = (-1)^{\\tfrac{m-1}{2}\\cdot\\tfrac{n-1}{2}}\n",
    "$$\n",
    "\n",
    "Usaremos además las siguientes propiedades para su cálculo:\n",
    "\n",
    "  - $\\left(\\frac{m}{n}\\right) = \\left(\\frac{m+kn}{n}\\right)$, para reducir el \"numerador\".\n",
    "  - $\\left(\\frac{2}{n}\\right) = (-1)^{\\frac{n^2-1}{8}}$\n",
    "  - $\\left(\\frac{1}{n}\\right) = 1$, caso base de recursión."
   ]
  },
  {
   "cell_type": "code",
   "execution_count": 7,
   "metadata": {
    "collapsed": true
   },
   "outputs": [],
   "source": [
    "# Utiliza funciones de la librería sympy\n",
    "from sympy import gcd\n",
    "from sympy.ntheory.factor_ import factorint\n",
    "\n",
    "def jacobiSym(m,n):\n",
    "    \"\"\"Calcula el símbolo de Jacobi de dos enteros. El segundo de ellos\n",
    "    no debe ser par.\"\"\"\n",
    "    \n",
    "    # Trabaja en módulo n\n",
    "    m = m % n\n",
    "    \n",
    "    # Caso base, no son coprimos\n",
    "    if gcd(m,n) != 1:\n",
    "        return 0\n",
    "    \n",
    "    # Caso base, 1 es un residuo cuadrático \n",
    "    if m == 1:\n",
    "        return 1\n",
    "    \n",
    "    # Caso recursivo, m divisible entre 2\n",
    "    if m % 2 == 0:\n",
    "        return pow(-1, (n**2-1)/8) * jacobiSym(m/2, n)\n",
    "    \n",
    "    # Caso recursivo, ley de reciprocidad cuadrática\n",
    "    return pow(-1, ((m-1)*(n-1))/4) * jacobiSym(n,m)"
   ]
  },
  {
   "cell_type": "code",
   "execution_count": 8,
   "metadata": {
    "collapsed": false
   },
   "outputs": [
    {
     "data": {
      "text/plain": [
       "(-1, -1)"
      ]
     },
     "execution_count": 8,
     "metadata": {},
     "output_type": "execute_result"
    }
   ],
   "source": [
    "from sympy.ntheory import jacobi_symbol\n",
    "jacobi_symbol(7,45), jacobiSym(7,45)"
   ]
  },
  {
   "cell_type": "markdown",
   "metadata": {},
   "source": [
    "### Pseudoprimalidad de Euler\n",
    "\n",
    "Recordamos que $n$ es pseudo primo de Euler respecto a la base $b$ si:\n",
    "\n",
    "- $n$ es impar,\n",
    "- $gcd(b,n)=1$ y\n",
    "- $b^{\\frac{n-1}{2}}\\equiv jacobi(b,n) \\mbox{ mod } n$."
   ]
  },
  {
   "cell_type": "markdown",
   "metadata": {},
   "source": [
    "- **Ejercicio 3.** Define la función <span style=\"color:red\">epsp(n)</span> que:\n",
    "    1. Si $n$ es par tiene como salida:\n",
    "        - <span style=\"color:green\">print n es par</span>\n",
    "        - <span style=\"color:green\">return (2,false)</span>\n",
    "    2. Elige una base $b$ al azar.\n",
    "    3. Comprueba si $gcd(b,n)=1$ \n",
    "       - Si es falso la función termina con:\n",
    "         - <span style=\"color:green\">print gcd(b,n) es divisor de n</span> \n",
    "         - <span style=\"color:green\"> return (b,false)</span> \n",
    "       - Si es cierto comprueba si $b^{\\frac{n-1}{2}} \\equiv jacobi(b,n) \\mbox{ mod } n$, \n",
    "          - si es falso la salida es <span style=\"color:green\">(b,false)</span>,\n",
    "          - si es cierto la salida es <span style=\"color:green\">(b,true)</span>. "
   ]
  },
  {
   "cell_type": "markdown",
   "metadata": {},
   "source": [
    "- **Ejercicio 4.** Define una función <span style=\"color:red\">epsp(n,k)</span> que realice hasta k veces el test 2. \n",
    "    - Si en algún momento $n$ falla el test la función termina con <span style=\"color:green\">(b,false)</span>,\n",
    "      con $b$ la base para la cual $n$ no pasa el test. \n",
    "    - Si $n$ pasa el test para las $k$ bases elegidas la salida será:\n",
    "        - <span style=\"color:green\"> print es posible que n sea primo</span>\n",
    "        - <span style=\"color:green\"> return (b,true)</span>, puedes poner las última base o las k bases."
   ]
  },
  {
   "cell_type": "code",
   "execution_count": 9,
   "metadata": {
    "collapsed": true
   },
   "outputs": [],
   "source": [
    "# Pseudoprimalidad de Euler\n",
    "# Definición de pseudoprimos de Euler.\n",
    "def isEpsp(n,b):\n",
    "    \"\"\"Comprueba la pseudoprimalidad de Euler de los \n",
    "    números pares.\n",
    "    \"\"\"\n",
    "    \n",
    "    # Comprueba coprimalidad\n",
    "    if gcd(b,n) != 1:\n",
    "        print \"{} es divisor de {}\".format(gcd(b,n), n)\n",
    "        return b,False\n",
    "    \n",
    "    # Test de Euler\n",
    "    return pow(b,(n-1)/2,n) == jacobi_symbol(b,n)\n",
    "\n",
    "\n",
    "# Test simple de pseudoprimalidad con una base aleatoria\n",
    "# sólo para números impares.\n",
    "def epspSimpleTest(n):\n",
    "    # Elige una base aleatoria\n",
    "    b = random.randint(2,n-1)\n",
    "    if not isEpsp(n,b):\n",
    "        return b, False\n",
    "\n",
    "    return b, True\n",
    "\n",
    "\n",
    "# Test de pseudoprimalidad de Euler\n",
    "def epsp(n,k=1):\n",
    "    # Eliminamos el caso de un número par\n",
    "    if n % 2 == 0:\n",
    "        print \"{} es par\".format(n)\n",
    "        return 2,False\n",
    "    \n",
    "    # Prueba el test de primalidad simple sobre un conjunto de k bases\n",
    "    # elegidas aleatoriamente.\n",
    "    bases = []\n",
    "    for _ in xrange(k):\n",
    "        \n",
    "        # Si alguna falla, sabemos inmediatamente que no es primo.\n",
    "        b,result = epspSimpleTest(n)\n",
    "        if result == False: return (b,False)\n",
    "        bases.append(b)\n",
    "    \n",
    "    # Si todas las bases pasan el test, es posible que sea primo.\n",
    "    print \"Es posible que {} sea primo\".format(n)\n",
    "    return bases,True"
   ]
  },
  {
   "cell_type": "code",
   "execution_count": 10,
   "metadata": {
    "collapsed": false
   },
   "outputs": [
    {
     "name": "stdout",
     "output_type": "stream",
     "text": [
      "Es posible que 29 sea primo\n"
     ]
    },
    {
     "data": {
      "text/plain": [
       "(28, False)"
      ]
     },
     "execution_count": 10,
     "metadata": {},
     "output_type": "execute_result"
    }
   ],
   "source": [
    "epsp(29)\n",
    "epsp(561,12)"
   ]
  },
  {
   "cell_type": "markdown",
   "metadata": {},
   "source": [
    "## Test 3. Fuertemente pseudoprimos. Test de Miller-Rabin"
   ]
  },
  {
   "cell_type": "markdown",
   "metadata": {},
   "source": [
    "Recordar que $n$ es ***fuertemente pseudoprimo*** respecto a la base $b$ si: \n",
    "   - $n$ es impar, \n",
    "   - $gcd(b,n)=1$ y \n",
    "   - Si escribimos $n=2^s t$, con $t$ impar, entonces:\n",
    "       - $b^t \\equiv 1 \\mbox{ mod } n$ o bien,\n",
    "       - existe $i=0,1,\\ldots,s-1$ tal que $b^{t * 2^i}\\equiv -1 \\mbox{ mod } n$."
   ]
  },
  {
   "cell_type": "markdown",
   "metadata": {},
   "source": [
    "- **Ejercicio 5.** Define una función <span style=\"color:red\">mpot(p,m)</span> que calcule la mayor potencia de $p$ que divide a $m$. No deben usarse funciones que factoricen m."
   ]
  },
  {
   "cell_type": "code",
   "execution_count": 11,
   "metadata": {
    "collapsed": true
   },
   "outputs": [],
   "source": [
    "def mpot(p, m):\n",
    "    \"\"\"Calcula el mayor exponente con el que p divide a m.\n",
    "    La entrada debe ser un número positivo.\n",
    "    \"\"\"\n",
    "    # Se comenta que en la práctica 10 será necesario que\n",
    "    # esta función acepte números negativos.\n",
    "\n",
    "    exp = 0\n",
    "    while (m % p == 0):\n",
    "        exp = exp+1\n",
    "        m = m/p\n",
    "\n",
    "    return exp"
   ]
  },
  {
   "cell_type": "markdown",
   "metadata": {},
   "source": [
    "- **Ejercicio 6.**  Define una función <span style=\"color:red\">fpsp(n)</span> que:\n",
    "    - **1.** Si $n$ es par tiene como salida <span style=\"color:green\"> print n es par, return (2,false)</span>.\n",
    "    - **2.** En otro caso:\n",
    "        - **2.1.** Calcule $s$ y $t$ tales que $n-1 = 2^s t$, con $t$ impar.\n",
    "        - **2.2.** Elije una base $b$ al azar.\n",
    "        - **2.3.** Comprueba si $gcd(b,n)=1$ \n",
    "             - ***2.3.1.*** Si es falso la función termina con <span style=\"color:green\"> print gcd(b,n) es divisor de n, return (b false)</span>. \n",
    "             - ***2.3.2.*** Si es cierto comprueba si $b^t= \\pm  1\\mbox{ mod } n$: \n",
    "                  - ***2.3.2.1.*** Si es cierto la salida es <span style=\"color:green\">(b,true)</span>, \n",
    "                  - ***2.3.2.2.*** Si es falso comprueba:\n",
    "                      - **2.3.2.2.1.** Si existe un $i=1,\\ldots,s-1$ tal que $b^{t*2^i}\\equiv  -1 \\mbox{ mod } n$ la salida es <span style=\"color:green\">(i,b,true)</span> (sacar i es opcional).\n",
    "                      - **2.3.2.2.2.** Si no existe tal $i$ la salida es <span style=\"color:green\">(b, false)</span> . "
   ]
  },
  {
   "cell_type": "markdown",
   "metadata": {},
   "source": [
    "- **Ejercicio 7.**  Define una función <span style=\"color:red\">fpsp(n,k)</span>  que aplique hasta $k$ veces el test 3. \n",
    "    - Si en algún momento $n$ no pasa el test la función termina con <span style=\"color:green\">(b,false)</span>.\n",
    "    - Si $n$ pasa el test para las $k$ bases elegidas la salida será <span style=\"color:green\">print es posible que n sea primo, (bases, true)</span>"
   ]
  },
  {
   "cell_type": "code",
   "execution_count": 12,
   "metadata": {
    "collapsed": false
   },
   "outputs": [
    {
     "name": "stdout",
     "output_type": "stream",
     "text": [
      "3 es divisor de 561\n"
     ]
    },
    {
     "data": {
      "text/plain": [
       "(48, False)"
      ]
     },
     "execution_count": 12,
     "metadata": {},
     "output_type": "execute_result"
    }
   ],
   "source": [
    "# Test de pseudoprimalidad de Euler\n",
    "def fpsp(n, k=1):\n",
    "    \n",
    "    # Comprueba el test de primalidad para una base y una división\n",
    "    # de n en partes par e impar dadas\n",
    "    def fpspTest(n,b,s,t):\n",
    "        # Comprueba coprimalidad\n",
    "        if gcd(b,n) != 1:\n",
    "            print \"{} es divisor de {}\".format(gcd(b,n),n)\n",
    "            return b, False\n",
    "\n",
    "        # Comprueba la primera condición de pseudoprimalidad de Euler\n",
    "        powb = pow(b,t,n)\n",
    "        if powb == 1 or powb == -1: return b, True\n",
    "\n",
    "        # Comprueba la segunda condición de pseudoprimalidad de Euler\n",
    "        for i in xrange(1,s):\n",
    "            if pow(b, t*2**i, n) == n-1:\n",
    "                return b, True\n",
    "            if pow(b, t*2**i, n) == 1:\n",
    "                return b, False\n",
    "        \n",
    "        # Si falla la comprobación\n",
    "        return b, False\n",
    "    \n",
    "    # Caso unidad\n",
    "    if n == 1: return 1, False\n",
    "    \n",
    "    # Caso par\n",
    "    if n % 2 == 0:\n",
    "        print \"{} es par\".format(n)\n",
    "        return 2,n == 2\n",
    "    \n",
    "    # Descompone al número en parte par e impar\n",
    "    s = mpot(2, n-1)\n",
    "    t = (n-1)/s\n",
    "    \n",
    "    # Elige una base al azar para cada paso\n",
    "    bases = []\n",
    "    for _ in xrange(k):\n",
    "        b = randint(2,n-1)\n",
    "        bases.append(b)\n",
    "        b, test = fpspTest(n,b,s,t)\n",
    "        if not test: return b, False\n",
    "    \n",
    "    # En caso de que haya pasado todos los tests\n",
    "    return bases, True\n",
    "\n",
    "fpsp(561)"
   ]
  },
  {
   "cell_type": "markdown",
   "metadata": {},
   "source": [
    "## Comparaciones"
   ]
  },
  {
   "cell_type": "markdown",
   "metadata": {},
   "source": [
    "- **Ejercicio 8.** Comprueba los tres tests, usando números grandes y algún número de Carmichael, y compáralos con el test de Sympy <span style=\"color:blue\">isprime</span>  "
   ]
  },
  {
   "cell_type": "code",
   "execution_count": 13,
   "metadata": {
    "collapsed": false
   },
   "outputs": [
    {
     "data": {
      "text/plain": [
       "((187, False), (434, False))"
      ]
     },
     "execution_count": 13,
     "metadata": {},
     "output_type": "execute_result"
    }
   ],
   "source": [
    "psp(561,15), epsp(561,15)"
   ]
  },
  {
   "cell_type": "markdown",
   "metadata": {
    "collapsed": true
   },
   "source": [
    "# Factorización"
   ]
  },
  {
   "cell_type": "markdown",
   "metadata": {},
   "source": [
    "### Funciones auxiliares"
   ]
  },
  {
   "cell_type": "markdown",
   "metadata": {},
   "source": [
    "Lista de funciones auxiliares que vamos a definir:\n",
    "   - <span style=\"color:red\">abmod(x,n)</span>,\n",
    "   - <span style=\"color:red\">mayorpot(p,n)</span>,\n",
    "   - <span style=\"color:red\">bnumer(b,base,n)</span>,\n",
    "   - <span style=\"color:red\">vec_alfa(b,base,n)</span>,\n",
    "   - <span style=\"color:red\">parp(lista)</span>,\n",
    "   - <span style=\"color:red\">ssuma(lista1,lista2)</span>,\n",
    "   - <span style=\"color:red\">aux(k,r)</span>,\n",
    "   - <span style=\"color:red\">suma(lista,k)</span>,\n",
    "\n",
    "Paso a comentar cada función:\n",
    "\n",
    "  - La función <span style=\"color:red\">abmod(x,n)</span> tiene como salida $x\\%n$ si este es menor o igual que $\\frac{n}{2}$ y $x\\%n -n$ en caso contrario.  \n",
    "  \n",
    "  - La función <span style=\"color:red\">mayorpot(p,x)</span>\n",
    "     - Si $p=-1$ tiene como salida $1$ si $x<0$ y $0$ en caso contrario.\n",
    "     - Para cualquier otro $p$ (normalmente primo) tiene como salida el exponente de la mayor potencia de $p$ que divide a $x$. Para definir esta función no puedes factorizar x.\n",
    "     \n",
    "  - La función <span style=\"color:red\">bnumer(b,base,n)</span> tiene como salida true si $b$ es un base-número relativo a $n$ y false en caso contrario.\n",
    "  \n",
    "  - La función <span style=\"color:red\">vec_alfa(b,base,n)</span> comprueba que $b$ es un base-número y en este caso tiene como salida el vector alfa asociado a $b$. \n",
    "Este será una lista de longitud <span style=\"color:green\">len(base)</span> cuyas coordenadas son los exponentes de los elementos de \"base\" en la descomposición en primos de abmod($b^2,n$) (ver teoría).\n",
    "\n",
    "  - La función <span style=\"color:red\">parp(lista)</span> vale true si todos los elementos en la lista son pares y false en otro caso.\n",
    "  \n",
    "  - La función <span style=\"color:red\">ssuma(lista1,lista2)</span> comprueba que las listas tienen la misma longitud y en ese caso tiene como salida una nueva lista con la misma longitud de las dos listas y que en lugar $i$ tiene a lista1[i]+lista2[i]."
   ]
  },
  {
   "cell_type": "code",
   "execution_count": 2,
   "metadata": {
    "collapsed": false
   },
   "outputs": [
    {
     "data": {
      "text/plain": [
       "[0, 2, 0]"
      ]
     },
     "execution_count": 2,
     "metadata": {},
     "output_type": "execute_result"
    }
   ],
   "source": [
    "from criptoMRG import abmod,mayorpot,bnumer,vec_alfa,parp,ssuma\n",
    "\n",
    "vec_alfa(3,[2,3,5],100)"
   ]
  },
  {
   "cell_type": "markdown",
   "metadata": {},
   "source": [
    "Nuestro siguiente objetivo es calcular todas las <span style=\"color:red\">ssumas</span> de k elementos de una lista de listas, de la misma longitud, con $k$ menor o igual que la longitud de cualquier lista de la lista.\n",
    "\n",
    "   - Para ello vamos a definir una función auxiliar <span style=\"color:red\">aux(k,r)</span> cuya salida sea una lista con todas las listas posibles de la forma $[l_0,l_2,\\ldots,l_{k-1}]$ con\n",
    "$0\\leq l_0 < l_2 <\\ldots< l_{k-1} \\leq r.$\n",
    "   \n",
    "   - La función  <span style=\"color:red\">suma(lista,k)</span>: La variable \"lista\" tiene que ser una lista de listas, todas ellas de la misma longitud, primero comprueba que $k\\leq $<span style=\"color:green\">len(lista)</span> y luego da una lista con todas las \n",
    "<span style=\"color:red\">ssumas</span> posibles de $k$ elementos de la \"lista\""
   ]
  },
  {
   "cell_type": "code",
   "execution_count": 1,
   "metadata": {
    "collapsed": false
   },
   "outputs": [],
   "source": [
    "from criptoMRG import suma, aux"
   ]
  },
  {
   "cell_type": "markdown",
   "metadata": {},
   "source": [
    "## El algoritmo de factorización Factor Base"
   ]
  },
  {
   "cell_type": "markdown",
   "metadata": {},
   "source": [
    "- ### *Elección de la base. Voy a tener suerte*"
   ]
  },
  {
   "cell_type": "markdown",
   "metadata": {},
   "source": [
    "La primera elección de la base es poco profesional, por ejemplo elegimos la base con el -1 y los primeros 30 primos."
   ]
  },
  {
   "cell_type": "markdown",
   "metadata": {},
   "source": [
    "** Ejercicio 9.-** Define la base\n",
    "$$B=[-1,2,3,...,113],$$ \n",
    "que tiene al $-1$ y los primeros 30 primos"
   ]
  },
  {
   "cell_type": "code",
   "execution_count": 4,
   "metadata": {
    "collapsed": false
   },
   "outputs": [],
   "source": [
    "from sympy import prime\n",
    "basetreinta = [-1] + [prime(i) for i in xrange(1,30)]"
   ]
  },
  {
   "cell_type": "markdown",
   "metadata": {},
   "source": [
    "- ### Elección de la lista de $B$ números. Voy a seguir teniendo suerte"
   ]
  },
  {
   "cell_type": "markdown",
   "metadata": {},
   "source": [
    "Vamos a elegir una lista de $B$-números con la esperanza de que sean suficientes para resolver la ecuación $x^2\\equiv y^2\\mod n$. \n",
    "\n",
    "El proceso será el siguiente:\n",
    "\n",
    "  - Fijamos $k_{max}$ y también $i_{max}$. \n",
    "  - Construimos la lista \n",
    " $$L_1=[n_k=\\mbox{ floor(sqrt($k*n$)), para } k=1,2,3,4,\\ldots,k_{max}].$$ \n",
    "  \n",
    "  - Construimos la lista $$L_2=[ b_{ki}=n_k + i, \\mbox{ para } n_k \\in L_1 \\mbox{ e } i=0,2,3,\\ldots,i_{max}-1]$$\n",
    " \n",
    "  - Seleccionamos de $L_2$ aquellos $b_{ki}$ que son B-números y formamos la lista BN con ellos.\n",
    " \n",
    "Define una función <span style=\"color:red\">bi(n,k,i,base)</span> que realice el proceso de selección anterior."
   ]
  },
  {
   "cell_type": "code",
   "execution_count": 5,
   "metadata": {
    "collapsed": false
   },
   "outputs": [],
   "source": [
    "from math import floor,sqrt\n",
    "\n",
    "def bi(n,k,i,base):\n",
    "    # Crea las listas\n",
    "    lista1 = [int(floor(sqrt(i*n))) for i in xrange(1,k+1)]\n",
    "    lista2 = [m+i for i in xrange(i) for m in lista1]\n",
    "    \n",
    "    # Selecciona los B-números\n",
    "    return filter(lambda b: bnumer(b, base, n), lista2)"
   ]
  },
  {
   "cell_type": "markdown",
   "metadata": {},
   "source": [
    "- ### Algoritmo de resolución de la ecuación $x^2\\equiv y^2 \\mod n$\n",
    "\n",
    "  - Imput n\n",
    "  - output (t,s) con $t^2=s^2\\mod n$\n",
    "\n",
    "    - **paso 1.-** Elegimos una base $B$ y esperamos tener suerte.\n",
    "    - **paso 2.-** Elegimos índices $k_{max}$ e $i_{max}$ y construimos la lista de $B$-números <span style=\"color:green\">BN</span>= <span style=\"color:red\">bi(n,$k_{max}$,$i_{max}$,base)</span> y volvemos a esperar tener suerte.\n",
    "    - **paso 3.-** Construimos la lista <span style=\"color:green\">alfavec</span> de alfa vectores correspondientes a los $B$-números en $BN$.\n",
    "    - **paso 4.-** Inicializamos el índice $j=1$, construimos la lista <span style=\"color:green\">sumaj</span>=<span style=\"color:red\">suma(alfavec,j)</span> y nos quedamos con las sublista <span style=\"color:green\">sumajpar</span>  de sumaj cuyos elementos satisfagan la condición <span style=\"color:red\">parp</span>. Si <span style=\"color:green\">sumajpar</span> es vacía tomamos $j=j+1$ y repetimos el proceso anterior.\n",
    "    - **paso 5.-** Inicializamos $\\alpha$ como el primer elemento de <span style=\"color:green\">sumajpar</span>, tomamos $in_\\alpha$ como el lugar que ocupa $\\alpha$ en <span style=\"color:green\">sumaj</span>. Esto nos permite calcular la lista de eles para $\\alpha$,\n",
    "<center> <span style=\"color:green\">eles$\\alpha$</span> = <span style=\"color:red\">aux(len(B),j)[in_$\\alpha$]</span> = $[l_0,l_2,\\ldots,l_{j-1}]$</center>\n",
    "además tenemos que $$\\alpha=\\alpha_{l_0}+\\ldots +\\alpha_{l_{j-1}}.$$\n",
    "Si ponemos $\\alpha_{l_i}=(e_{l_i}^0,\\ldots,e_{l_i}^h)$ y $\\alpha=(e_0,\\ldots,e_h)$ entonces:\n",
    "$$ e_r=\\sum_{i=0}^{j-1} e_{l_i}^r$$\n",
    "    - **paso 6.-** Calculamos:\n",
    "    $$ t=\\prod_{i=0}^{j-1} b_{l_i} \\quad\\mbox{y}\\quad s=\\prod_{r=0}^h p_r^{\\frac{e_r}{2}}$$\n",
    "    - **paso 7.-** Si $(t,s)$ es una solución no trivial return $(t,s)$. En caso contrario volvemos al paso 5 tomando $\\alpha=$ siguiente de $\\alpha$.\n",
    "    - **Fin.-** Si todas las soluciones que hemos obtenido son triviales no hemos tenido suerte y cambiamos primero los índices $k_{max}$ e $i_{max}$ y si aún así no tenemos suerte cambiamos la base $B$."
   ]
  },
  {
   "cell_type": "markdown",
   "metadata": {},
   "source": [
    "** Ejercicio 10.-** Elige un entero $n$ positivo que empiece por los dígitos de tu DNI, asegúrate de que el $n$ que has elegido no es primo y tampoco par. Realiza el algoritmo anterior paso a paso.\n",
    "\n",
    "A partir de la solución que has obtenido, da una factorización de $n$.\n",
    "\n",
    "***Comprueba el resultado.***"
   ]
  },
  {
   "cell_type": "code",
   "execution_count": 11,
   "metadata": {
    "collapsed": false
   },
   "outputs": [
    {
     "data": {
      "text/plain": [
       "(0, 1)"
      ]
     },
     "execution_count": 11,
     "metadata": {},
     "output_type": "execute_result"
    }
   ],
   "source": [
    "from sympy import isprime\n",
    "\n",
    "# Elegimos un número que sabemos que no es primo\n",
    "n = 7714566997697\n",
    "isprime(n)\n",
    "\n",
    "# Paso 1: Elegimos una base y esperamos tener suerte\n",
    "base = basetreinta\n",
    "\n",
    "# Paso 2: Elegimos índices con los que probar\n",
    "k = 100\n",
    "i = 10\n",
    "bn = bi(n,k,i,base)\n",
    "\n",
    "# Paso 3: Construimos la lista de alfa vectores\n",
    "alfavec = map(lambda b: vec_alfa(b,base,n), bn)\n",
    "\n",
    "# Paso 4:\n",
    "# Paso 4.1, probamos y nos quedamos con los que cumplan la\n",
    "# condición parp, que es la lista vacía\n",
    "suma1 = suma(alfavec,1)\n",
    "filter(parp,suma1)\n",
    "# Paso 4.2, probamos y nos quedamos con los que cumplan la\n",
    "# condición parp, que ahora son todos\n",
    "suma2 = suma(alfavec,2)\n",
    "suma2filtered = filter(parp,suma2)\n",
    "\n",
    "# Paso 5: Calculamos la lista de eles\n",
    "alpha = suma2filtered[0]\n",
    "inalpha = 0\n",
    "elesalpha = aux(2, len(base))[inalpha]\n",
    "elesalpha"
   ]
  },
  {
   "cell_type": "markdown",
   "metadata": {},
   "source": [
    "** Ejercicio (Avanzado) 11.-** Define una función \n",
    "<center><span style=\"color:red\">soleq(n,h,k,i)</span></center>\n",
    "que haga lo siguiente:\n",
    "- Tome como Base Factor a la lista formada por $-1$ seguido de los $h$-primeros primos.\n",
    "- Tome $k$ e $i$ como los índices $k_{max}$ e $i_{max}$ en el algoritmo anterior\n",
    "- Tenga como salida:\n",
    "   - print todas las soluciones son triviales, o bien\n",
    "   - $(t,s)$,  una solución no trivial de la ecuación $x^2\\equiv y^2 \\mod n$.\n",
    "\n",
    "Comprueba que tu función \"funciona\" utilizando el $n$ del ejercicio anterior y viendo que obtienes los mismos resultados.\n",
    "\n",
    "Aplica la función <span style=\"color:red\">soleq</span> a varios ejemplos y comprueba los resultados."
   ]
  },
  {
   "cell_type": "markdown",
   "metadata": {},
   "source": [
    "** Ejercicio (Avanzado) 12.-** Define una función \n",
    "<center><span style=\"color:red\">fac(n,h)</span></center>\n",
    "para factrorizar $n$ que utilice la función soleq. El parámetro $h$ indica el número de primos que van a formar parte de la base factor. He omitido los índices $k$ e $i$ pero puedes añadirlos si los necesitas."
   ]
  },
  {
   "cell_type": "markdown",
   "metadata": {
    "collapsed": true
   },
   "source": [
    "- ### Elección de la base. Fracciones continuas"
   ]
  },
  {
   "cell_type": "markdown",
   "metadata": {},
   "source": [
    "- La función <span style=\"color:green\">continued_fraction_periodic(a,b,d)</span> calcula la fracción continua asociada a $\\frac{a+\\sqrt d}{b}$.\n",
    "\n",
    "- La función <span style=\"color:green\">continued_fraction_convergents(lista)</span> calcula los convergentes.\n",
    "\n",
    "- La función <span style=\"color:green\">fraction</span> aplicada a una fracción separa el numerador y el denominador."
   ]
  },
  {
   "cell_type": "code",
   "execution_count": 45,
   "metadata": {
    "collapsed": true
   },
   "outputs": [],
   "source": [
    "from sympy import *"
   ]
  },
  {
   "cell_type": "code",
   "execution_count": 46,
   "metadata": {
    "collapsed": false
   },
   "outputs": [
    {
     "name": "stdout",
     "output_type": "stream",
     "text": [
      "[95, [3, 1, 26, 2, 6, 1, 1, 3, 2, 1, 5, 3, 1, 7, 5, 1, 1, 1, 4, 4, 4, 1, 1, 1, 5, 7, 1, 3, 5, 1, 2, 3, 1, 1, 6, 2, 26, 1, 3, 190]]\n"
     ]
    }
   ],
   "source": [
    "F=continued_fraction_periodic(0,1,9073) # (0+sqrt(9073))/1\n",
    "print F"
   ]
  },
  {
   "cell_type": "code",
   "execution_count": 47,
   "metadata": {
    "collapsed": false
   },
   "outputs": [
    {
     "name": "stdout",
     "output_type": "stream",
     "text": [
      "[95, 3, 1, 26, 2, 6]\n"
     ]
    }
   ],
   "source": [
    "L1=[F[0]]+F[1][:5]\n",
    "print L1"
   ]
  },
  {
   "cell_type": "code",
   "execution_count": 48,
   "metadata": {
    "collapsed": true
   },
   "outputs": [],
   "source": [
    "L2=continued_fraction_convergents(L1)"
   ]
  },
  {
   "cell_type": "code",
   "execution_count": 49,
   "metadata": {
    "collapsed": false
   },
   "outputs": [
    {
     "name": "stdout",
     "output_type": "stream",
     "text": [
      "[95, 286/3, 381/4, 10192/107, 20765/218, 134782/1415]\n"
     ]
    }
   ],
   "source": [
    "L3=list(L2)\n",
    "print L3"
   ]
  },
  {
   "cell_type": "code",
   "execution_count": 50,
   "metadata": {
    "collapsed": false
   },
   "outputs": [
    {
     "data": {
      "text/plain": [
       "(286, 3)"
      ]
     },
     "execution_count": 50,
     "metadata": {},
     "output_type": "execute_result"
    }
   ],
   "source": [
    "fraction(L3[1])"
   ]
  },
  {
   "cell_type": "markdown",
   "metadata": {},
   "source": [
    "### Algoritmo de elección de la Base factor y de los B-números"
   ]
  },
  {
   "cell_type": "markdown",
   "metadata": {},
   "source": [
    "- **Paso 1.-** Calculamos la fracción continua asociada a $\\sqrt n$\n",
    "<center> F = <span style=\"color:green\">continued_fraction_periodic(0,1,n).</span></center>\n",
    "- **Paso 2.-** Formamos la lista\n",
    "<center> $L_1 =$ <span style=\"color:green\">F[0]+F[1].</span></center>\n",
    "- **Paso 3.-** Elegimos $s\\leq len(L_1)$, calculamos los convergentes \n",
    "<center> $L_2 = $<span style=\"color:green\">continued_fraction_convergents($L_1$[:s]).</span></center>\n",
    "- **Paso 4.-** Formamos la lista Pbs cuyos elementos son los numeradores de los elementos en $L_2$.\n",
    "- **Paso 5.-** Para cada $b\\in Pbs$ factorizamos <span style=\"color:green\">abmod $(b^2,n)$.</span>\n",
    "- **Paso 6.-** La base factor $B$ estará formada por $-1$ junto con los primos que:\n",
    "   - aparecen en la factorización de <span style=\"color:green\">abmod $(b^2,n)$</span> para al menos dos b's en Pbs, o bien\n",
    "   - aparece con un exponente par en la factorización de <span style=\"color:green\">abmod $(b^2,n)$</span> para exactamente un b.\n",
    "-  **Paso 7.-** La lista de B-números estará formada por aquellos b's en Pbs que sean B-números para la base obtenida en el paso anterior."
   ]
  },
  {
   "cell_type": "markdown",
   "metadata": {},
   "source": [
    "** Ejercicio 12.-** Elige un entero $n$ positivo que empiece por los dígitos de tu DNI, asegúrate de que el $n$ que has elegido no es primo y que es distinto del que elegiste en el ejercicio 1, y realiza el algoritmo anterior paso a paso obteniendo una base $B$ y una lista de $B$-números $BN$."
   ]
  },
  {
   "cell_type": "markdown",
   "metadata": {},
   "source": [
    "** Ejercicio 13.-** Completa el ejercicio 3 resolviendo la ecuación $x^2\\equiv y^2\\mod n$ utilizando como base factor y lista de B-números los obtenidos en el ejercicio 3. "
   ]
  },
  {
   "cell_type": "markdown",
   "metadata": {},
   "source": [
    "** Ejercicio 14.-** Completa el ejercicio 4 factorizando el $n$ que has elegido.\n",
    "\n",
    "** Ejercicio (Avanzado) 15.-** Automatiza los procesos de elección de base factor y resolución de la ecuación, para ello define una función  <span style=\"color:red\">soleqfc(n,s)</span>.\n",
    "\n",
    "** Ejercicio (Avanzado) 16.-** Define una función <span style=\"color:red\">facfc(n)</span> que factorice $n$ utilizando la función soleqfc."
   ]
  },
  {
   "cell_type": "code",
   "execution_count": null,
   "metadata": {
    "collapsed": true
   },
   "outputs": [],
   "source": []
  }
 ],
 "metadata": {
  "kernelspec": {
   "display_name": "Python 2",
   "language": "python2",
   "name": "python2"
  },
  "language_info": {
   "codemirror_mode": {
    "name": "ipython",
    "version": 2
   },
   "file_extension": ".py",
   "mimetype": "text/x-python",
   "name": "python",
   "nbconvert_exporter": "python",
   "pygments_lexer": "ipython2",
   "version": "2.7.13"
  }
 },
 "nbformat": 4,
 "nbformat_minor": 0
}
