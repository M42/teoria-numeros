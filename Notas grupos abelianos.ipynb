{
 "cells": [
  {
   "cell_type": "markdown",
   "metadata": {},
   "source": [
    "## Matriz de relaciones"
   ]
  },
  {
   "cell_type": "code",
   "execution_count": 3,
   "metadata": {
    "collapsed": true
   },
   "outputs": [],
   "source": [
    "from FDEMRG import *"
   ]
  },
  {
   "cell_type": "code",
   "execution_count": 17,
   "metadata": {
    "collapsed": true
   },
   "outputs": [],
   "source": [
    "def e(d):\n",
    "    if d % 4 == 1:\n",
    "        return Rational(1,2)+Rational(1,2)*sqrt(d) \n",
    "    else:\n",
    "        return sqrt(d)"
   ]
  },
  {
   "cell_type": "code",
   "execution_count": 5,
   "metadata": {},
   "outputs": [
    {
     "data": {
      "text/plain": [
       "[[-1, 0], [-1, 2], [2, 1], [0, 1]]"
      ]
     },
     "execution_count": 5,
     "metadata": {},
     "output_type": "execute_result"
    }
   ],
   "source": [
    "l = matrizrelaciones([e(-1), 2+e(-1)], -1)\n",
    "sorted(l, key=lambda x: abs(x[0]) if x[0] != 0 else float(\"inf\"))"
   ]
  },
  {
   "cell_type": "code",
   "execution_count": 6,
   "metadata": {},
   "outputs": [
    {
     "data": {
      "text/plain": [
       "(0, 2 + I)"
      ]
     },
     "execution_count": 6,
     "metadata": {},
     "output_type": "execute_result"
    }
   ],
   "source": [
    "xy(e(-1)*(2+e(-1)),-1)"
   ]
  },
  {
   "cell_type": "code",
   "execution_count": 7,
   "metadata": {},
   "outputs": [
    {
     "data": {
      "text/plain": [
       "-1 + 2*I"
      ]
     },
     "execution_count": 7,
     "metadata": {},
     "output_type": "execute_result"
    }
   ],
   "source": [
    "expand(e(-1)*(2+e(-1)))"
   ]
  },
  {
   "cell_type": "code",
   "execution_count": null,
   "metadata": {
    "collapsed": true
   },
   "outputs": [],
   "source": [
    "# ¡¡¡¡¡¡¡¡¡¡¡¡¡¡¡¡¡¡¡¡¡¡¡¡¡¡¡¡¡¡¡PROHIBIDO EN LA DEFINICIÓN DE LR USAR WHILE!!!!!!!!!!!!!!!!!!!!!!!!!!!!\n",
    "# Hay que hacerla recursiva"
   ]
  },
  {
   "cell_type": "markdown",
   "metadata": {},
   "source": [
    "## Norma de un ideal"
   ]
  },
  {
   "cell_type": "markdown",
   "metadata": {},
   "source": [
    "La norma de un ideal se define como:\n",
    "\n",
    "$$\\mathrm{norma}(I) = \\left|\\frac{\\mathbb{O}}{I}\\right|$$\n",
    "\n",
    "Un ideal vendrá dado como la lista de sus generadores $I = <\\alpha_1,\\dots,\\alpha_r>$ como ideal. Desde ella obtenemos la lista de generadores como grupo abeliano $<\\alpha_1,\\alpha_1*e, \\dots, \\alpha_r,\\alpha_r*e>$. Con esta lista de generadores tendremos una presentación del grupo con la **matriz de relatores**, de dimensiones\n",
    "$2 \\times 2r$,\n",
    "\n",
    "$$\n",
    "\\frac{\\mathbb{O}}{I} = <x,y; LR>.\n",
    "$$\n",
    "\n",
    "Esta matriz de relatores la podemos simplificar por transformaciones elementales."
   ]
  },
  {
   "cell_type": "code",
   "execution_count": 16,
   "metadata": {
    "collapsed": true
   },
   "outputs": [],
   "source": [
    "def matrizrelaciones(ideal, d):\n",
    "    # Considera la lista de generadores como grupo abeliano, esto es,\n",
    "    # la lista de los generadores y los generadores multiplicados por\n",
    "    # la unidad\n",
    "    generadores = flatten(map(lambda a: [a, expand(e(d) * a)], ideal))\n",
    "    \n",
    "    # Escribe las coordenadas de cada elemento del grupo abeliano\n",
    "    # para generar la matriz\n",
    "    return map(lambda a: list(xy(a,d)), generadores)"
   ]
  },
  {
   "cell_type": "markdown",
   "metadata": {},
   "source": [
    "La función LR lo que hará es ordenar las filas por valor absoluto y poniendo los ceros al final."
   ]
  },
  {
   "cell_type": "code",
   "execution_count": 14,
   "metadata": {
    "collapsed": true
   },
   "outputs": [],
   "source": [
    "def lr(matriz):\n",
    "    # Ordena la matriz por valor absoluto\n",
    "    matriz = sorted(matriz, key=lambda x: abs(x[0]) if x[0] != 0 else float(\"inf\"))\n",
    "    \n",
    "    # Si ha simplificado la primera fila, devuelve la matriz\n",
    "    if (len(matriz) < 2 or matriz[1][0] == 0):\n",
    "        return matriz\n",
    "    \n",
    "    # Si no la ha simplificado, reduce y vuelve a simplificar\n",
    "    \n",
    "    ## Reducción por la primera fila\n",
    "    \n",
    "    # return lr(matriz)"
   ]
  },
  {
   "cell_type": "markdown",
   "metadata": {},
   "source": [
    "Al final queremos obtener la matriz reducida\n",
    "\n",
    "$$\\begin{pmatrix}\n",
    "a & 0 & 0 & \\dots & 0\\\\\n",
    "b & c & 0 & \\dots & 0\n",
    "\\end{pmatrix},$$\n",
    "\n",
    "en la que podemos calcular la norma del ideal como $ac$."
   ]
  },
  {
   "cell_type": "code",
   "execution_count": 15,
   "metadata": {},
   "outputs": [],
   "source": [
    "lr(matrizrelaciones([e(-1), 2+e(-1)], -1))"
   ]
  },
  {
   "cell_type": "markdown",
   "metadata": {},
   "source": [
    "**Teorema**. Si $I$ es el ideal generado por $\\alpha$, $\\mathrm{norma}(I) = |\\mathrm{norma}(\\alpha,d)|$."
   ]
  },
  {
   "cell_type": "markdown",
   "metadata": {},
   "source": [
    "(!!!!!) Cuando factoricemos el ideal, deberemos comprobar primero si es el total. Tenemos que dar una lista de factores primos del ideal, donde a su vez cada uno será una lista de generadores."
   ]
  },
  {
   "cell_type": "code",
   "execution_count": null,
   "metadata": {
    "collapsed": true
   },
   "outputs": [],
   "source": []
  },
  {
   "cell_type": "markdown",
   "metadata": {},
   "source": [
    "## Propiedades de la norma\n",
    "\n",
    "La norma cumple que\n",
    "\n",
    " 1. $I = \\mathbb{O}$ si y sólo si $\\mathrm{norma}(I) = 1$.\n",
    " 2. Si y sólo si $\\mathfrak{p} \\leq_{primo} \\mathbb{O}$, entonces $\\mathbb{O}/\\mathcal{p}$ es cuerpo.\n",
    " 3. La norma de un ideal primo $\\mathrm{norma}(\\mathfrak{p}) = p^n$.\n",
    " 4. Si $J \\subset I$, existe una aplicación sobreyectiva $\\mathbb{O}/I \\subset \\mathbb{O}/I$.\n",
    " \n",
    "La factorización se basa en\n",
    "\n",
    " 1. $I \\mid J$ si y sólo si $\\exists I' \\leq \\mathbb{O}\\colon J = II'$.\n",
    " \n",
    "Para comprobar si $I \\mid J$, comprobaremos si $I^{-1}J$ está en $\\mathbb{O}$, que será su cociente."
   ]
  },
  {
   "cell_type": "code",
   "execution_count": null,
   "metadata": {
    "collapsed": true
   },
   "outputs": [],
   "source": []
  }
 ],
 "metadata": {
  "kernelspec": {
   "display_name": "Python 2",
   "language": "python2",
   "name": "python2"
  },
  "language_info": {
   "codemirror_mode": {
    "name": "ipython",
    "version": 2
   },
   "file_extension": ".py",
   "mimetype": "text/x-python",
   "name": "python",
   "nbconvert_exporter": "python",
   "pygments_lexer": "ipython2",
   "version": "2.7.13"
  }
 },
 "nbformat": 4,
 "nbformat_minor": 2
}
