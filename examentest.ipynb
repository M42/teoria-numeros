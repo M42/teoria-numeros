{
 "cells": [
  {
   "cell_type": "code",
   "execution_count": 11,
   "metadata": {},
   "outputs": [],
   "source": [
    "from sympy import *\n",
    "from itertools import *\n",
    "from MRG import *\n",
    "d = 1239"
   ]
  },
  {
   "cell_type": "code",
   "execution_count": 12,
   "metadata": {},
   "outputs": [
    {
     "data": {
      "text/plain": [
       "True"
      ]
     },
     "execution_count": 12,
     "metadata": {},
     "output_type": "execute_result"
    }
   ],
   "source": [
    "# Comprobamos que es libre de cuadrados\n",
    "all([i == 1 for i in factorint(d).values()])"
   ]
  },
  {
   "cell_type": "code",
   "execution_count": 13,
   "metadata": {
    "collapsed": true
   },
   "outputs": [],
   "source": [
    "# Cota de Minkowski\n",
    "# Discriminante del cuerpo\n",
    "def discriminante(d):\n",
    "    if d%4 != 1:\n",
    "        return 4*d\n",
    "    else:\n",
    "        return d"
   ]
  },
  {
   "cell_type": "code",
   "execution_count": 14,
   "metadata": {
    "collapsed": true
   },
   "outputs": [],
   "source": [
    "def minkowski(d):\n",
    "    # Definición de s y t\n",
    "    if d > 0:\n",
    "        s = 2\n",
    "        t = 0\n",
    "    else:\n",
    "        s = 0\n",
    "        t = 1\n",
    "    n = s + 2*t\n",
    "    \n",
    "    cota = (4/float(pi))**t * factorial(n)/(n**n) * sqrt(discriminante(d))\n",
    "    return float(cota)"
   ]
  },
  {
   "cell_type": "code",
   "execution_count": 15,
   "metadata": {},
   "outputs": [
    {
     "data": {
      "text/plain": [
       "35.199431813596085"
      ]
     },
     "execution_count": 15,
     "metadata": {},
     "output_type": "execute_result"
    }
   ],
   "source": [
    "minkowski(1239)"
   ]
  },
  {
   "cell_type": "code",
   "execution_count": 16,
   "metadata": {},
   "outputs": [
    {
     "data": {
      "text/plain": [
       "[2, 3, 5, 7, 11, 13, 17, 19, 23, 29, 31]"
      ]
     },
     "execution_count": 16,
     "metadata": {},
     "output_type": "execute_result"
    }
   ],
   "source": [
    "# Buscamos los primos menores que la cota\n",
    "primosdebajo = [x for x in sieve.primerange(0,minkowski(1239))]\n",
    "primosdebajo"
   ]
  },
  {
   "cell_type": "code",
   "execution_count": 17,
   "metadata": {},
   "outputs": [
    {
     "data": {
      "text/plain": [
       "[2, 3, 5, 7, 13, 17, 19]"
      ]
     },
     "execution_count": 17,
     "metadata": {},
     "output_type": "execute_result"
    }
   ],
   "source": [
    "# Nos quedamos sólo con los primos que ramifican\n",
    "def ramifica(p):\n",
    "    irr = irr_e(d)\n",
    "    solucionesirr = [x for x in xrange(p) if irr(x)%p==0]\n",
    "    return (len(solucionesirr) != 0)\n",
    "    \n",
    "primosramifican = filter(ramifica, primosdebajo)\n",
    "primosramifican"
   ]
  },
  {
   "cell_type": "code",
   "execution_count": 18,
   "metadata": {},
   "outputs": [
    {
     "data": {
      "text/plain": [
       "[2, 3, 5, 7, 13, 17, 19]"
      ]
     },
     "execution_count": 18,
     "metadata": {},
     "output_type": "execute_result"
    }
   ],
   "source": [
    "primosqueramificanbajolacota(d)"
   ]
  },
  {
   "cell_type": "code",
   "execution_count": 19,
   "metadata": {},
   "outputs": [
    {
     "data": {
      "text/plain": [
       "[[2, -1 + sqrt(1239)],\n",
       " [3, sqrt(1239)],\n",
       " [5, -2 + sqrt(1239)],\n",
       " [7, sqrt(1239)],\n",
       " [13, -2 + sqrt(1239)],\n",
       " [17, -7 + sqrt(1239)],\n",
       " [19, -2 + sqrt(1239)]]"
      ]
     },
     "execution_count": 19,
     "metadata": {},
     "output_type": "execute_result"
    }
   ],
   "source": [
    "idealesGeneradores(d)"
   ]
  },
  {
   "cell_type": "code",
   "execution_count": 20,
   "metadata": {},
   "outputs": [
    {
     "data": {
      "text/plain": [
       "[[2, -1 + sqrt(1239)],\n",
       " [3, sqrt(1239)],\n",
       " [5, -2 + sqrt(1239)],\n",
       " [7, sqrt(1239)],\n",
       " [13, -2 + sqrt(1239)],\n",
       " [17, -7 + sqrt(1239)],\n",
       " [19, -2 + sqrt(1239)]]"
      ]
     },
     "execution_count": 20,
     "metadata": {},
     "output_type": "execute_result"
    }
   ],
   "source": [
    "# Los generadores son los ideales con la norma de los primos que ramifican.\n",
    "# Podemos coger sólo el primero porque si hay otro entonces serán inversos\n",
    "ideales = map(lambda p: idealesDivisores(p,d)[0], primosramifican)\n",
    "ideales"
   ]
  },
  {
   "cell_type": "code",
   "execution_count": 23,
   "metadata": {},
   "outputs": [
    {
     "name": "stdout",
     "output_type": "stream",
     "text": [
      "El ideal 0 ésimo es inverso del ideal 3 ésimo.\n",
      "El ideal 1 ésimo es inverso del ideal 5 ésimo.\n",
      "El ideal 2 ésimo es inverso del ideal 4 ésimo.\n"
     ]
    }
   ],
   "source": [
    "lista = refinaGeneradores(ideales,d)"
   ]
  },
  {
   "cell_type": "code",
   "execution_count": 21,
   "metadata": {
    "collapsed": true
   },
   "outputs": [],
   "source": [
    "def esPrinc(ideal,d):\n",
    "    n = normaIdeal(ideal,d)\n",
    "    l = connorma(n,d) + connorma(-n,d)\n",
    "    return any([pertenece(u,ideal,d) for u in l])"
   ]
  },
  {
   "cell_type": "code",
   "execution_count": 22,
   "metadata": {},
   "outputs": [
    {
     "data": {
      "text/plain": [
       "[[2, -1 + sqrt(1239)],\n",
       " [3, sqrt(1239)],\n",
       " [5, -2 + sqrt(1239)],\n",
       " [7, sqrt(1239)],\n",
       " [13, -2 + sqrt(1239)],\n",
       " [17, -7 + sqrt(1239)],\n",
       " [19, -2 + sqrt(1239)]]"
      ]
     },
     "execution_count": 22,
     "metadata": {},
     "output_type": "execute_result"
    }
   ],
   "source": [
    "# Primer refinamiento\n",
    "lista = filter(lambda i: not esPrinc(i,d), ideales)\n",
    "lista"
   ]
  },
  {
   "cell_type": "code",
   "execution_count": 96,
   "metadata": {
    "collapsed": true
   },
   "outputs": [],
   "source": [
    "# Segundo refinamiento: quitar inversos\n",
    "def quitaInversos(lista,d):\n",
    "    i = 0\n",
    "    while i < len(lista):\n",
    "        j = i+1\n",
    "        while j < len(lista):\n",
    "            print i,j\n",
    "            if esPrinc(productodos(lista[i],lista[j],d),d):\n",
    "                print \"Inversos: \",i,j\n",
    "                del lista[j]\n",
    "            else:\n",
    "                j = j+1\n",
    "        i = i+1"
   ]
  },
  {
   "cell_type": "code",
   "execution_count": 97,
   "metadata": {},
   "outputs": [
    {
     "name": "stdout",
     "output_type": "stream",
     "text": [
      "0 1\n",
      "0 2\n",
      "0 3\n",
      "Inversos:  0 3\n",
      "0 3\n",
      "0 4\n",
      "0 5\n",
      "1 2\n",
      "1 3\n",
      "1 4\n",
      "1 5\n",
      "Inversos:  1 5\n",
      "2 3\n",
      "2 4\n",
      "Inversos:  2 4\n"
     ]
    }
   ],
   "source": [
    "quitaInversos(lista,d)"
   ]
  },
  {
   "cell_type": "code",
   "execution_count": 17,
   "metadata": {},
   "outputs": [
    {
     "data": {
      "text/plain": [
       "[[2, -1 + sqrt(1239)],\n",
       " [3, sqrt(1239)],\n",
       " [5, -2 + sqrt(1239)],\n",
       " [13, -2 + sqrt(1239)]]"
      ]
     },
     "execution_count": 17,
     "metadata": {},
     "output_type": "execute_result"
    }
   ],
   "source": [
    "lista"
   ]
  },
  {
   "cell_type": "code",
   "execution_count": 101,
   "metadata": {
    "collapsed": true
   },
   "outputs": [],
   "source": [
    "def orden(ideal, d):\n",
    "    n = 1\n",
    "    i = ideal\n",
    "    while not esPrinc(i,d):\n",
    "        n = n+1\n",
    "        i = productodos(i,ideal,d)\n",
    "    return n"
   ]
  },
  {
   "cell_type": "code",
   "execution_count": 13,
   "metadata": {},
   "outputs": [
    {
     "ename": "NameError",
     "evalue": "name 'lista' is not defined",
     "output_type": "error",
     "traceback": [
      "\u001b[0;31m---------------------------------------------------------------------------\u001b[0m",
      "\u001b[0;31mNameError\u001b[0m                                 Traceback (most recent call last)",
      "\u001b[0;32m<ipython-input-13-9ba5549c98ca>\u001b[0m in \u001b[0;36m<module>\u001b[0;34m()\u001b[0m\n\u001b[0;32m----> 1\u001b[0;31m \u001b[0morders\u001b[0m \u001b[0;34m=\u001b[0m \u001b[0mmap\u001b[0m\u001b[0;34m(\u001b[0m\u001b[0;32mlambda\u001b[0m \u001b[0mi\u001b[0m\u001b[0;34m:\u001b[0m \u001b[0;34m(\u001b[0m\u001b[0mi\u001b[0m\u001b[0;34m,\u001b[0m\u001b[0morden\u001b[0m\u001b[0;34m(\u001b[0m\u001b[0mi\u001b[0m\u001b[0;34m,\u001b[0m \u001b[0md\u001b[0m\u001b[0;34m)\u001b[0m\u001b[0;34m)\u001b[0m\u001b[0;34m,\u001b[0m \u001b[0mlista\u001b[0m\u001b[0;34m)\u001b[0m\u001b[0;34m\u001b[0m\u001b[0m\n\u001b[0m\u001b[1;32m      2\u001b[0m \u001b[0morders\u001b[0m\u001b[0;34m\u001b[0m\u001b[0m\n",
      "\u001b[0;31mNameError\u001b[0m: name 'lista' is not defined"
     ]
    }
   ],
   "source": [
    "orders = map(lambda i: (i,orden(i, d)), lista)\n",
    "orders"
   ]
  },
  {
   "cell_type": "code",
   "execution_count": 19,
   "metadata": {},
   "outputs": [
    {
     "data": {
      "text/plain": [
       "[([2, -1 + sqrt(1239)], 2),\n",
       " ([3, sqrt(1239)], 2),\n",
       " ([5, -2 + sqrt(1239)], 4),\n",
       " ([13, -2 + sqrt(1239)], 4)]"
      ]
     },
     "execution_count": 19,
     "metadata": {},
     "output_type": "execute_result"
    }
   ],
   "source": [
    "ordenLista(lista,d)"
   ]
  },
  {
   "cell_type": "markdown",
   "metadata": {},
   "source": [
    "https://math.stackexchange.com/questions/1509214/express-an-abelian-group-given-as-finite-generators-and-their-relations-as-a-dir"
   ]
  },
  {
   "cell_type": "code",
   "execution_count": 135,
   "metadata": {
    "collapsed": true
   },
   "outputs": [],
   "source": [
    "relationlist = map(lambda (a,b): b, orders)\n",
    "relationmatrix = [\n",
    "    [x if i==j else 0 for j in range(len(relationlist))] \n",
    "    for (i,x) in list(enumerate(relationlist))]"
   ]
  },
  {
   "cell_type": "code",
   "execution_count": 136,
   "metadata": {},
   "outputs": [
    {
     "data": {
      "text/plain": [
       "[[2, 0, 0, 0], [0, 2, 0, 0], [0, 0, 4, 0], [0, 0, 0, 4]]"
      ]
     },
     "execution_count": 136,
     "metadata": {},
     "output_type": "execute_result"
    }
   ],
   "source": [
    "relationmatrix"
   ]
  },
  {
   "cell_type": "code",
   "execution_count": 105,
   "metadata": {
    "collapsed": true
   },
   "outputs": [],
   "source": [
    "def calculaRelacion(rel, generadores, d):\n",
    "    resultado = [1]\n",
    "    for i in xrange(len(rel)):\n",
    "        for _ in xrange(rel[i]):\n",
    "            resultado = productodos(resultado, generadores[i], d)\n",
    "    return resultado"
   ]
  },
  {
   "cell_type": "code",
   "execution_count": 106,
   "metadata": {
    "collapsed": true
   },
   "outputs": [],
   "source": [
    "def esNuevaRelacion(rel, matriz, generadores, d):\n",
    "    for relacion in matriz:\n",
    "        if all([a >= b for (a,b) in zip(rel,relacion)]):\n",
    "            return False\n",
    "    \n",
    "    if esPrinc(calculaRelacion(rel, generadores, d),d):\n",
    "        return True\n",
    "    \n",
    "    return False"
   ]
  },
  {
   "cell_type": "code",
   "execution_count": 108,
   "metadata": {
    "collapsed": true
   },
   "outputs": [],
   "source": [
    "def sumasposibles(r, n, t, acc=[]):\n",
    "    if t == 0:\n",
    "        if n == 0:\n",
    "            yield acc\n",
    "        return\n",
    "    for x in r:\n",
    "        if x > n:\n",
    "            break\n",
    "        for lst in sumasposibles(r, n-x, t-1, acc + [x]):\n",
    "            yield lst"
   ]
  },
  {
   "cell_type": "code",
   "execution_count": 111,
   "metadata": {
    "collapsed": true
   },
   "outputs": [],
   "source": [
    "def encuentraRelaciones(matriz, generadores, d):\n",
    "    t = len(generadores)\n",
    "    n = 3\n",
    "    alguncaso = True\n",
    "    \n",
    "    while alguncaso:\n",
    "        print \"Testing with n =\",n\n",
    "        alguncaso = False\n",
    "        for suma in sumasposibles(range(n+1),n,t):\n",
    "            if esNuevaRelacion(suma, matriz, generadores, d):\n",
    "                matriz = [suma] + matriz\n",
    "                print suma\n",
    "                alguncaso = True\n",
    "        n = n+1\n",
    "    \n",
    "    return matriz"
   ]
  },
  {
   "cell_type": "code",
   "execution_count": 137,
   "metadata": {},
   "outputs": [
    {
     "name": "stdout",
     "output_type": "stream",
     "text": [
      "Testing with n = 3\n",
      "[0, 1, 1, 1]\n",
      "Testing with n = 4\n",
      "[0, 0, 2, 2]\n",
      "[1, 1, 0, 2]\n",
      "[1, 1, 2, 0]\n",
      "Testing with n = 5\n",
      "[1, 0, 1, 3]\n",
      "[1, 0, 3, 1]\n",
      "Testing with n = 6\n"
     ]
    }
   ],
   "source": [
    "final = encuentraRelaciones(relationmatrix, lista, d)"
   ]
  },
  {
   "cell_type": "code",
   "execution_count": 138,
   "metadata": {
    "collapsed": true
   },
   "outputs": [],
   "source": [
    "final2 = final"
   ]
  },
  {
   "cell_type": "code",
   "execution_count": 148,
   "metadata": {},
   "outputs": [
    {
     "data": {
      "text/plain": [
       "[[1, 0, 3, 1],\n",
       " [0, 1, -1, -1],\n",
       " [0, 1, -3, 1],\n",
       " [0, 0, -6, -2],\n",
       " [0, 0, -2, 2],\n",
       " [0, 0, 2, 2],\n",
       " [0, 1, 1, 1],\n",
       " [0, 2, 0, 0],\n",
       " [0, 0, 4, 0],\n",
       " [0, 0, 0, 4]]"
      ]
     },
     "execution_count": 148,
     "metadata": {},
     "output_type": "execute_result"
    }
   ],
   "source": [
    "final2"
   ]
  },
  {
   "cell_type": "code",
   "execution_count": 155,
   "metadata": {
    "collapsed": true
   },
   "outputs": [],
   "source": [
    "def reduceRelaciones(matriz):\n",
    "    n = len(matriz)\n",
    "    m = len(matriz[0])\n",
    "    \n",
    "    for step in range(m):\n",
    "\n",
    "        # mientras que la matriz no esté reducida\n",
    "        while any([fila[step] != 0 for fila in matriz[(step+1):]]):\n",
    "\n",
    "            # Ordena la matriz por valor absoluto, dejando ceros al final\n",
    "            matriz[step:] = sorted(matriz[step:],\n",
    "                key=lambda x: abs(x[step]) if x[step] != 0 else float(\"inf\"))\n",
    "\n",
    "            # Y simplifica por filas\n",
    "            pivote = matriz[step][step]\n",
    "            for i in range(step+1,n):\n",
    "                coc = matriz[i][step] / pivote        \n",
    "                for j in range(m):\n",
    "                    matriz[i][j] = matriz[i][j] - matriz[step][j] * coc\n",
    "\n",
    "    return matriz"
   ]
  },
  {
   "cell_type": "code",
   "execution_count": 156,
   "metadata": {},
   "outputs": [
    {
     "data": {
      "text/plain": [
       "[[1, 0, 3, 1],\n",
       " [0, 1, -1, -1],\n",
       " [0, 0, -2, 2],\n",
       " [0, 0, 0, 4],\n",
       " [0, 0, 0, 0],\n",
       " [0, 0, 0, 0],\n",
       " [0, 0, 0, 0],\n",
       " [0, 0, 0, 0],\n",
       " [0, 0, 0, 0],\n",
       " [0, 0, 0, 0]]"
      ]
     },
     "execution_count": 156,
     "metadata": {},
     "output_type": "execute_result"
    }
   ],
   "source": [
    "reduceRelaciones(final2)"
   ]
  }
 ],
 "metadata": {
  "kernelspec": {
   "display_name": "Python 2",
   "language": "python2",
   "name": "python2"
  },
  "language_info": {
   "codemirror_mode": {
    "name": "ipython",
    "version": 2
   },
   "file_extension": ".py",
   "mimetype": "text/x-python",
   "name": "python",
   "nbconvert_exporter": "python",
   "pygments_lexer": "ipython2",
   "version": "2.7.13"
  }
 },
 "nbformat": 4,
 "nbformat_minor": 2
}
