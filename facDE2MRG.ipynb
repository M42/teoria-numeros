{
 "cells": [
  {
   "cell_type": "markdown",
   "metadata": {},
   "source": [
    "# Factorización en anillos de enteros de cuerpos cuadráticos $\\mathbb{Q}(\\sqrt{d})$, con $d>0$."
   ]
  },
  {
   "cell_type": "markdown",
   "metadata": {},
   "source": [
    "Vamos a estudiar como factorizar en los anillos de enteros $\\mathbb{O}$ de cuerpos cuadráticos $\\mathbb{Q}(\\sqrt{d})$ con $d>0$, en el caso en que $\\mathbb O$ sea un D.E. Recordar que esto ocurre cuando \n",
    "$$\n",
    "d=2,3,5,6,7,11,13,17,19,21,29,33,37,41,57,73.\n",
    "$$\n",
    "\n",
    "Para poder llevar una notación homogénea vamos a denotar \n",
    "$$ \n",
    "e = \\sqrt d \\quad\\mbox{si}\\quad d\\not\\equiv 1\\mod 4 \\quad  \\mbox{y} \\\\  \\quad e = \\frac{1+\\sqrt d}{2} \\quad \\quad\\mbox{si}\\quad d\\equiv 1\\mod 4\n",
    "$$\n",
    "\n",
    "Un elemento de $\\mathbb{O}$ será una expresión de la forma $\\alpha=a+b*e$, con $a,b\\in \\mathbb{Z}$. "
   ]
  },
  {
   "cell_type": "markdown",
   "metadata": {},
   "source": [
    "El algoritmo de factorización es estos anillos es básicamente el mismo que para el caso $d<0$. La diferencia estriba principalmente en el cálculo de los elementos con una determinada norma.\n",
    "\n",
    "El primer problema que tenemos que resolver es el cálculo de conjugados ya que, en este caso, el conjugado de un elemento de $\\mathbb Q(\\sqrt d )$ no es el conjugado complejo."
   ]
  },
  {
   "cell_type": "code",
   "execution_count": 77,
   "metadata": {
    "collapsed": true
   },
   "outputs": [],
   "source": [
    "from sympy import *"
   ]
  },
  {
   "cell_type": "code",
   "execution_count": 78,
   "metadata": {},
   "outputs": [
    {
     "data": {
      "text/plain": [
       "1"
      ]
     },
     "execution_count": 78,
     "metadata": {},
     "output_type": "execute_result"
    }
   ],
   "source": [
    "29%4"
   ]
  },
  {
   "cell_type": "markdown",
   "metadata": {},
   "source": [
    "Por tanto tomamos:"
   ]
  },
  {
   "cell_type": "code",
   "execution_count": 3,
   "metadata": {
    "collapsed": true
   },
   "outputs": [],
   "source": [
    "e1=(1+sqrt(29))/2"
   ]
  },
  {
   "cell_type": "code",
   "execution_count": 4,
   "metadata": {},
   "outputs": [
    {
     "data": {
      "text/plain": [
       "1/2 + sqrt(29)/2"
      ]
     },
     "execution_count": 4,
     "metadata": {},
     "output_type": "execute_result"
    }
   ],
   "source": [
    "e1"
   ]
  },
  {
   "cell_type": "markdown",
   "metadata": {},
   "source": [
    "Intoducimos algunos elementos del anillo de enteros"
   ]
  },
  {
   "cell_type": "code",
   "execution_count": 5,
   "metadata": {
    "collapsed": true
   },
   "outputs": [],
   "source": [
    "alpha= simplify(2-17*e1);\n",
    "beta= simplify(5-6*e1)\n",
    "alpha1=Rational(1,2)+Rational(3,2)*sqrt(29)"
   ]
  },
  {
   "cell_type": "code",
   "execution_count": 6,
   "metadata": {},
   "outputs": [
    {
     "data": {
      "text/plain": [
       "(-17*sqrt(29)/2 - 13/2, -3*sqrt(29) + 2, 1/2 + 3*sqrt(29)/2, 4*sqrt(29) + 727)"
      ]
     },
     "execution_count": 6,
     "metadata": {},
     "output_type": "execute_result"
    }
   ],
   "source": [
    "(alpha, beta, alpha1, simplify(alpha*beta+alpha1))"
   ]
  },
  {
   "cell_type": "markdown",
   "metadata": {},
   "source": [
    "Vemos que hace la función conjugate"
   ]
  },
  {
   "cell_type": "code",
   "execution_count": 7,
   "metadata": {},
   "outputs": [
    {
     "data": {
      "text/plain": [
       "-17*sqrt(29)/2 - 13/2"
      ]
     },
     "execution_count": 7,
     "metadata": {},
     "output_type": "execute_result"
    }
   ],
   "source": [
    "alpha.conjugate()"
   ]
  },
  {
   "cell_type": "markdown",
   "metadata": {},
   "source": [
    "Por tanto $\\alpha .conjugate()=\\alpha$ y no nos vale."
   ]
  },
  {
   "cell_type": "markdown",
   "metadata": {},
   "source": [
    "## La función <span style=\"color:red\">xy($\\alpha$,d)</span>."
   ]
  },
  {
   "cell_type": "markdown",
   "metadata": {},
   "source": [
    "Cualquier elemento $\\alpha\\in \\mathbb Q(\\sqrt d)$ se escribe como $\\alpha=x+y*\\sqrt d$ con $x,y \\in \\mathbb Q$, pero no podemos utilizar el conjugado para recuperara $x$ e $y$. "
   ]
  },
  {
   "cell_type": "markdown",
   "metadata": {},
   "source": [
    "#### La función <span style=\"color:red\">args</span>.\n",
    "\n",
    "Para definir la función <span style=\"color:red\">xy($\\alpha$,d)</span> podemos utilizar la función <span style=\"color:red\">args</span>, pero hay que utilizarla con cuidado, pongo algunos ejemplos:"
   ]
  },
  {
   "cell_type": "code",
   "execution_count": 8,
   "metadata": {
    "collapsed": true
   },
   "outputs": [],
   "source": [
    "a1=2\n",
    "a2=Rational(1,2)\n",
    "a3=sqrt(29)\n",
    "a4=3*sqrt(29)\n",
    "a5=Rational(1,2)*sqrt(29)\n",
    "a6=Rational(3,2)\n",
    "a7=Rational(5,2)*sqrt(29)\n",
    "a8=Rational(3,2)+Rational(5,2)*sqrt(29)"
   ]
  },
  {
   "cell_type": "code",
   "execution_count": 9,
   "metadata": {},
   "outputs": [
    {
     "data": {
      "text/plain": [
       "(3/2, 5*sqrt(29)/2)"
      ]
     },
     "execution_count": 9,
     "metadata": {},
     "output_type": "execute_result"
    }
   ],
   "source": [
    "a8.args"
   ]
  },
  {
   "cell_type": "code",
   "execution_count": 10,
   "metadata": {},
   "outputs": [
    {
     "data": {
      "text/plain": [
       "(5/2, sqrt(29))"
      ]
     },
     "execution_count": 10,
     "metadata": {},
     "output_type": "execute_result"
    }
   ],
   "source": [
    "a7.args"
   ]
  },
  {
   "cell_type": "code",
   "execution_count": 11,
   "metadata": {},
   "outputs": [
    {
     "data": {
      "text/plain": [
       "()"
      ]
     },
     "execution_count": 11,
     "metadata": {},
     "output_type": "execute_result"
    }
   ],
   "source": [
    "a6.args"
   ]
  },
  {
   "cell_type": "code",
   "execution_count": 12,
   "metadata": {},
   "outputs": [
    {
     "data": {
      "text/plain": [
       "(1/2, sqrt(29))"
      ]
     },
     "execution_count": 12,
     "metadata": {},
     "output_type": "execute_result"
    }
   ],
   "source": [
    "a5.args"
   ]
  },
  {
   "cell_type": "code",
   "execution_count": 13,
   "metadata": {},
   "outputs": [
    {
     "data": {
      "text/plain": [
       "(3, sqrt(29))"
      ]
     },
     "execution_count": 13,
     "metadata": {},
     "output_type": "execute_result"
    }
   ],
   "source": [
    "a4.args"
   ]
  },
  {
   "cell_type": "code",
   "execution_count": 14,
   "metadata": {},
   "outputs": [
    {
     "data": {
      "text/plain": [
       "(29, 1/2)"
      ]
     },
     "execution_count": 14,
     "metadata": {},
     "output_type": "execute_result"
    }
   ],
   "source": [
    "a3.args"
   ]
  },
  {
   "cell_type": "code",
   "execution_count": 15,
   "metadata": {},
   "outputs": [
    {
     "data": {
      "text/plain": [
       "()"
      ]
     },
     "execution_count": 15,
     "metadata": {},
     "output_type": "execute_result"
    }
   ],
   "source": [
    "a2.args"
   ]
  },
  {
   "cell_type": "code",
   "execution_count": 16,
   "metadata": {},
   "outputs": [
    {
     "ename": "AttributeError",
     "evalue": "'int' object has no attribute 'args'",
     "output_type": "error",
     "traceback": [
      "\u001b[1;31m---------------------------------------------------------------------------\u001b[0m",
      "\u001b[1;31mAttributeError\u001b[0m                            Traceback (most recent call last)",
      "\u001b[1;32m<ipython-input-16-38f65d7798dc>\u001b[0m in \u001b[0;36m<module>\u001b[1;34m()\u001b[0m\n\u001b[1;32m----> 1\u001b[1;33m \u001b[0ma1\u001b[0m\u001b[1;33m.\u001b[0m\u001b[0margs\u001b[0m\u001b[1;33m\u001b[0m\u001b[0m\n\u001b[0m",
      "\u001b[1;31mAttributeError\u001b[0m: 'int' object has no attribute 'args'"
     ]
    }
   ],
   "source": [
    "a1.args"
   ]
  },
  {
   "cell_type": "markdown",
   "metadata": {},
   "source": [
    "**Ejercicio 1.-** Redefine la función <span style=\"color:red\">xy($\\alpha$,d)</span>, de la tarea anterior, para que valga tanto para $d<0$ como para $d>0$. \n",
    "\n",
    "Para definir esta función <span style=\"color:red\">xy($\\alpha$,d)</span> puedes usar la funcione <span style=\"color:red\">args</span> o cualquier otra función de Python que encuentres. Pero, asegúrate de que <span style=\"color:red\">xy($\\alpha$,d)</span> hace lo que debe en los distintos casos que se pueden dar. "
   ]
  },
  {
   "cell_type": "code",
   "execution_count": 79,
   "metadata": {},
   "outputs": [
    {
     "name": "stdout",
     "output_type": "stream",
     "text": [
      "(2, 1)\n",
      "(1/3, 0)\n",
      "(0, 3)\n",
      "(4, 1/2)\n"
     ]
    }
   ],
   "source": [
    "from sympy import *\n",
    "from FDEMRG import xy\n",
    "\n",
    "print xy(2+sqrt(2),2)\n",
    "print xy(Rational(1,3),3)\n",
    "print xy(3*sqrt(29), 29)\n",
    "print xy(4+Rational(1,2)*sqrt(29), 29)"
   ]
  },
  {
   "cell_type": "markdown",
   "metadata": {},
   "source": [
    "## El resto de las funciones auxiliares"
   ]
  },
  {
   "cell_type": "markdown",
   "metadata": {},
   "source": [
    "**Ejercicio 2.-** Redefine las siguientes funciones de la tarea factDE1 para que funcionen tanto para $d<0$ como para $d>0$:\n",
    "\n",
    "- <span style=\"color:red\">norma($\\alpha$,d)</span>, \n",
    "- <span style=\"color:red\">traza($\\alpha$,d)</span>,\n",
    "- <span style=\"color:red\">es_entero($\\alpha$,d)</span>,\n",
    "- <span style=\"color:red\">ab($\\alpha$,d)</span>, \n",
    "- <span style=\"color:red\">divide($\\alpha,\\beta$,d)</span>,\n",
    "- <span style=\"color:red\">cociente($\\alpha,\\beta$,d)</span> y\n",
    "- <span style=\"color:red\">es_unidad($\\alpha$,d)</span>."
   ]
  },
  {
   "cell_type": "code",
   "execution_count": 80,
   "metadata": {},
   "outputs": [
    {
     "name": "stdout",
     "output_type": "stream",
     "text": [
      "1\n",
      "-25\n",
      "6\n",
      "4\n",
      "0\n",
      "True\n",
      "False\n",
      "True\n",
      "(2, 1)\n",
      "(1, 2)\n"
     ]
    }
   ],
   "source": [
    "from FDEMRG import norma, traza, es_entero, ab\n",
    "\n",
    "print norma(1, 2)\n",
    "print norma(2+sqrt(29), 29)\n",
    "print norma(3+sqrt(3), 3)\n",
    "\n",
    "print traza(2+sqrt(2), 2)\n",
    "print traza(Rational(1,2)*sqrt(3), 3)\n",
    "\n",
    "print es_entero(2+sqrt(3), 3)\n",
    "print es_entero(Rational(1,2)+Rational(1,2)*sqrt(3), 3)\n",
    "print es_entero(Rational(1,2)+Rational(1,2)*sqrt(5), 5)\n",
    "\n",
    "print ab(2+sqrt(3), 3)\n",
    "print ab(2+sqrt(5), 5)"
   ]
  },
  {
   "cell_type": "code",
   "execution_count": 81,
   "metadata": {},
   "outputs": [
    {
     "name": "stdout",
     "output_type": "stream",
     "text": [
      "True\n",
      "True\n",
      "1 + sqrt(5)\n",
      "sqrt(3) + 2\n"
     ]
    }
   ],
   "source": [
    "from FDEMRG import divide, cociente, es_unidad\n",
    "\n",
    "print divide(2+2*sqrt(3), 2, 3)\n",
    "print divide(5, sqrt(5), 5)\n",
    "\n",
    "print cociente(2+2*sqrt(5), 2, 5)\n",
    "print cociente((1-sqrt(3))* (2+sqrt(3)), (1-sqrt(3)), 3)"
   ]
  },
  {
   "cell_type": "markdown",
   "metadata": {},
   "source": [
    "# La ecuación de Pell general  $x^2-d*y^2=n.$"
   ]
  },
  {
   "cell_type": "markdown",
   "metadata": {},
   "source": [
    "Cuando $d>0$ esta ecuación tiene infinitas soluciones o ninguna.\n",
    "\n",
    "El método de resolución que aquí presentamos está basado en el articulo de J.P. Robertson ***\"Solving the general Pell equation $x^2-Dy^2=N$\".*** Que podéis encontrar en http://www.jpr2718.org/pell.pdf.\n",
    "\n",
    "Recordar que $d$ debe ser un entero positivo libre de cuadrados. "
   ]
  },
  {
   "cell_type": "markdown",
   "metadata": {},
   "source": [
    "## La ecuación de Pell  $$x^2-d*y^2=1.$$"
   ]
  },
  {
   "cell_type": "markdown",
   "metadata": {},
   "source": [
    "Para resolver la ecuación general de Pell primero deberemos resolverla para el caso $n=1$.\n",
    "\n",
    "Procedemos de la siguiente forma:\n",
    "\n",
    "- Calculamos la fracción continua asociada a $\\sqrt d$, \n",
    "<center> F = <span style=\"color:green\"> continued_fraction_periodic </span>(0,1,d)=$[a_0,[a_1,\\ldots,a_r]]$.</center>\n",
    "- Definimos la lista $$L=[a_0,a_1,\\ldots,a_{r-1}].$$\n",
    "**Notar que:** $a_r=2*a_0$.\n",
    "- Calculamos los <span style=\"color:green\">convergentes continued_fraction_convergents</span>(L).\n",
    "- Tomamos $x_0$ e $y_0$ el numerador y el denominador, respectivamente, del último convergente.\n",
    "- Entonces $(x_0,y_0)$ es una solución de:\n",
    "$$                \n",
    "x_0^2-d*y_0^2 =  1  \\quad \\mbox{si len(L) es par} \\\\\n",
    "x_0^2-d*y_0^2 = -1  \\quad \\mbox{si len(L) es impar}.\n",
    "$$\n",
    "\n",
    "**NOTAR QUE:** Si $u=x_0+y_0*\\sqrt d$ tiene norma -1 entonces $u^2$ tiene norma 1. \n",
    "\n",
    "Esto nos permite encontrar siempre una solución de la ecuación $x^2-d*y^2=1$, aunque len(L) sea impar. "
   ]
  },
  {
   "cell_type": "markdown",
   "metadata": {
    "collapsed": true
   },
   "source": [
    "**Ejercicio 3.-** Define una función <span style=\"color:red\">pell(d)</span> para resolver la ecuación de Pell anterior."
   ]
  },
  {
   "cell_type": "code",
   "execution_count": 84,
   "metadata": {},
   "outputs": [
    {
     "name": "stdout",
     "output_type": "stream",
     "text": [
      "(3, 2)\n",
      "(5, 2)\n",
      "(170, 39)\n"
     ]
    }
   ],
   "source": [
    "from sympy import *\n",
    "from FDEMRG import pell\n",
    "\n",
    "print pell(2)\n",
    "print pell(6)\n",
    "print pell(19)"
   ]
  },
  {
   "cell_type": "markdown",
   "metadata": {},
   "source": [
    "## La ecuación de Pell general $$x^2-d*y^2=n.$$"
   ]
  },
  {
   "cell_type": "markdown",
   "metadata": {},
   "source": [
    "La ecuación general de Pell $x^2- d*y^2 = n$ tiene infinitas o ninguna solución. \n",
    "\n",
    "Si esta ecuación tiene solución hay unas pocas que generan todas las demás, \n",
    "estas son llamadas **soluciones generadoras** (ver el artículo de Robertson).\n",
    "\n",
    "Para resolver la ecuación $x^2-d*y^2=n$ (con $d$ libre de cuadrados) procedemos de la siguiente forma:\n",
    "\n",
    " - Calculamos una solución de la ecuación $x^2-d*y^2=1$. Supongamos esta $(r,s)$ ($r$ y $s$ positivos).\n",
    " - Calculamos las cotas para $y$. \n",
    " \n",
    " Estas serán:\n",
    "            \n",
    "  - Si $n>0,\\quad 0\\leq y \\leq \\sqrt{\\frac{n*(r-1)}{2d}}$.\n",
    "  \n",
    "  - Si $n<0, \\quad\\sqrt{\\frac{-n}{d}}\\leq y \\leq \\sqrt{\\frac{-n*(r+1)}{2d}}$.\n",
    "\n",
    " - Para $y$ entre las cotas, formamos la lista de aquellos $x^2=d*y^2+n$ que son un cuadrado. Si ninguno de estos elementos es un cuadrado, la ecuación no tiene solución. En otro caso:\n",
    " - Las soluciones generadoras serán $(±x,y)$."
   ]
  },
  {
   "cell_type": "markdown",
   "metadata": {
    "collapsed": true
   },
   "source": [
    "**Ejercicio 5.-** Define una función <span style=\"color:red\">generalpell(d,n)</span> para resolver la ecuación general de Pell. Pon varios ejemplos, algunos en los que se tenga solución y otros no, y comprueba los resultados."
   ]
  },
  {
   "cell_type": "code",
   "execution_count": 85,
   "metadata": {},
   "outputs": [
    {
     "name": "stdout",
     "output_type": "stream",
     "text": [
      "[(-1, 1), (1, -1), (1, 1), (-1, -1)]\n"
     ]
    }
   ],
   "source": [
    "from sympy import *\n",
    "from FDEMRG import generalpell\n",
    "\n",
    "print generalpell(-1,2)"
   ]
  },
  {
   "cell_type": "markdown",
   "metadata": {},
   "source": [
    "### Resto de las funciones auxiliares que involucran la resolución de ecuaciones de Pell."
   ]
  },
  {
   "cell_type": "markdown",
   "metadata": {},
   "source": [
    "**Ejercicio 6.-** Redefine las siguientes funciones de la tarea factDE1 para que funcionen tanto para $d<0$ como para $d>0$:\n",
    "\n",
    "- <span style=\"color:red\">es_irreducible($\\alpha$,d)</span>,\n",
    "- <span style=\"color:red\">connorma(n,d)</span>."
   ]
  },
  {
   "cell_type": "code",
   "execution_count": 86,
   "metadata": {},
   "outputs": [
    {
     "name": "stdout",
     "output_type": "stream",
     "text": [
      "True\n",
      "False\n",
      "[1, -1]\n",
      "[-3 - sqrt(3), -3 + sqrt(3), sqrt(3) + 3, -sqrt(3) + 3]\n"
     ]
    }
   ],
   "source": [
    "from sympy import *\n",
    "from FDEMRG import es_irreducible, connorma\n",
    "\n",
    "print es_irreducible(2,3)\n",
    "print es_irreducible(2+2*sqrt(2), 2)\n",
    "print connorma(1,2)\n",
    "print connorma(6,3)"
   ]
  },
  {
   "cell_type": "markdown",
   "metadata": {},
   "source": [
    "## Algoritmo de factorización."
   ]
  },
  {
   "cell_type": "markdown",
   "metadata": {},
   "source": [
    "- ** Imput: ** Un entero algebraico $\\alpha\\in \\mathbb Q(\\sqrt d)$, con $d$ un entero libre de cuadrados tal que el anillo de enteros de $\\mathbb Q(\\sqrt d)$ es un DE.\n",
    "- ** Output: ** Una lista de enteros irreducibles $[\\alpha_1,\\ldots,\\alpha_r]$ tal que $\\alpha=\\alpha_1\\ldots \\alpha_r$.\n",
    " \n",
    "   - **Paso 1.-** Si $\\alpha$ es unidad o irreducible, la salida es $divisores=[\\alpha]$. En caso contrario seguimos con el siguiente paso.\n",
    "   - **Paso 2.-** Calculamos la norma de $\\alpha$ y la factorizamos en $\\mathbb Z$,\n",
    "   $$norma(\\alpha)=p_1^{e_1} p_2^{e_2}\\ldots p_s^{e_s}.$$\n",
    "   - **Paso 3.-** Elegimos el primer primp $p_1$ y calculamos la lista de enteros con norma $\\pm p_1$:\n",
    "   $$L=connorma(\\pm p_1,d)$$\n",
    "        - Si $L=\\emptyset$ entonces $p_1$ es irreducible, comprobamos si $\\alpha_1=p_1$ divide a $\\alpha$.\n",
    "        - En otro caso, para cada $\\alpha_1\\in L$ comprobamos si $\\alpha_1$ divide a $\\alpha$.\n",
    "   \n",
    "   Si $s>1$ en el paso 3 debemos encontrar un divisor propio $\\alpha_1$ de $\\alpha$, lo añadimos a la lista de divisores, tomamos \n",
    "   $$\\alpha=cociente(\\alpha_1,\\alpha)$$\n",
    "      y volvemos al paso 1. \n",
    "\n",
    "El algoritmo acaba cuando $\\alpha$ es unidad o irreducible."
   ]
  },
  {
   "cell_type": "markdown",
   "metadata": {},
   "source": [
    "** Ejercicio 6.-** Toma como $k$ el número de tu DNI o pasaporte (quita todas las letras) y toma $d$ el entero libre de cuadrados que no sea congruente con 1 módulo 4 más cercano a $k\\%100$."
   ]
  },
  {
   "cell_type": "code",
   "execution_count": 57,
   "metadata": {},
   "outputs": [
    {
     "name": "stdout",
     "output_type": "stream",
     "text": [
      "19\n"
     ]
    }
   ],
   "source": [
    "# Calculo mi k\n",
    "k = 77145669\n",
    "k % 100\n",
    "\n",
    "# El d posible más cercano es el 19\n",
    "dposibles = filter(lambda x: x%4 != 1, [2,3,5,6,7,11,13,17,19,21,29,33,37,41,57,73])\n",
    "\n",
    "def mas_cercano(lista, valor):\n",
    "    indx = max(enumerate(map(lambda x: x-valor, lista)), key=lambda x: x[1])[0]\n",
    "    return lista[indx]\n",
    "\n",
    "d = mas_cercano(dposibles, k%100)\n",
    "\n",
    "print d"
   ]
  },
  {
   "cell_type": "markdown",
   "metadata": {},
   "source": [
    "Elige $\\alpha$ un entero en $\\mathbb Q(\\sqrt d)$ y factorízalo aplicando el algoritmo anterior paso a paso. Asegúrate de elegir un $\\alpha$ con al menos tres factores. Asegúrate también que la factorización que obtienes es correcta."
   ]
  },
  {
   "cell_type": "code",
   "execution_count": 58,
   "metadata": {},
   "outputs": [
    {
     "name": "stdout",
     "output_type": "stream",
     "text": [
      "-39*sqrt(19) - 93\n",
      "{2: 1, 3: 4, 5: 3, -1: 1}\n",
      "-3*sqrt(19) - 13\n",
      "{3: 4, 5: 3}\n",
      "-4 + sqrt(19)\n",
      "{3: 3, 5: 3, -1: 1}\n",
      "4 + sqrt(19)\n",
      "4 + sqrt(19)\n",
      "4 + sqrt(19)\n",
      "{5: 3}\n",
      "2*sqrt(19) + 9\n",
      "2*sqrt(19) + 9\n",
      "2*sqrt(19) + 9\n",
      "-13260*sqrt(19) + 57799\n",
      "1\n"
     ]
    }
   ],
   "source": [
    "a = (1+sqrt(d))*(2+sqrt(d))*(1-2*sqrt(d))\n",
    "\n",
    "# Calculamos la norma y dividimos por el primer elemento\n",
    "print simplify(a)\n",
    "print factorint(norma(a,d))\n",
    "f1 = (connorma(-2,d) + connorma(2,d))[0]\n",
    "a2 = cociente(a,f1,d)\n",
    "print f1\n",
    "\n",
    "# Calculamos la norma y dividimos por el primer elemento\n",
    "print factorint(norma(a2,d))\n",
    "f2 = (connorma(3,d) + connorma(-3,d))[0]\n",
    "a3 = cociente(a2,f2,d)\n",
    "print f2\n",
    "\n",
    "# Calculamos la norma y dividimos por el primer elemento\n",
    "# que lo divida tantas veces como pueda. Tomamos 3 de norma.\n",
    "print factorint(norma(a3,d))\n",
    "f3 = filter(lambda h: divide(a3,h,d), (connorma(3,d) + connorma(-3,d)))[0]\n",
    "a4 = cociente(a3,f3,d)\n",
    "a5 = cociente(a4,f3,d)\n",
    "a6 = cociente(a5,f3,d)\n",
    "print f3\n",
    "print f3\n",
    "print f3\n",
    "\n",
    "# Calculamos la norma y dividimos por el primer elemento\n",
    "# que lo divida. Tomamos 5 de norma.\n",
    "print factorint(norma(a6,d))\n",
    "f4 = filter(lambda h: divide(a6,h,d), (connorma(5,d) + connorma(-5,d)))[0]\n",
    "a7 = cociente(a6,f4,d)\n",
    "a8 = cociente(a7,f4,d)\n",
    "a9 = cociente(a8,f4,d)\n",
    "print f4\n",
    "print f4\n",
    "print f4\n",
    "print a9\n",
    "print norma(a9,d)"
   ]
  },
  {
   "cell_type": "code",
   "execution_count": 97,
   "metadata": {},
   "outputs": [
    {
     "data": {
      "text/plain": [
       "-39*sqrt(19) - 93"
      ]
     },
     "execution_count": 97,
     "metadata": {},
     "output_type": "execute_result"
    }
   ],
   "source": [
    "# Comprobamos la factorización\n",
    "simplify(f1*f2*f3*f3*f3*f4*f4*f4*a9)"
   ]
  },
  {
   "cell_type": "markdown",
   "metadata": {},
   "source": [
    "** Ejercicio 7.-** Toma como $k$ el número de tu DNI o pasaporte (quita todas las letras) y toma $d$ el entero libre de cuadrados que sea congruente con 1 módulo 4 más cercano a $k\\%100$."
   ]
  },
  {
   "cell_type": "code",
   "execution_count": 5,
   "metadata": {},
   "outputs": [
    {
     "name": "stdout",
     "output_type": "stream",
     "text": [
      "73\n"
     ]
    }
   ],
   "source": [
    "# Mi DNI\n",
    "k = 77145669\n",
    "\n",
    "# El d posible más cercano es el 73\n",
    "dposibles = filter(lambda x: x%4 == 1, [2,3,5,6,7,11,13,17,19,21,29,33,37,41,57,73])\n",
    "\n",
    "def mas_cercano(lista, valor):\n",
    "    indx = max(enumerate(map(lambda x: x-valor, lista)), key=lambda x: x[1])[0]\n",
    "    return lista[indx]\n",
    "\n",
    "g = mas_cercano(dposibles, k%100)\n",
    "print g"
   ]
  },
  {
   "cell_type": "markdown",
   "metadata": {},
   "source": [
    "Elige $\\alpha$ un entero en $\\mathbb Q(\\sqrt d)$ y factorizalo aplicando el algoritmo anterior paso a paso. Asegúrate de elegir un $\\alpha$ con al menos tres factores. Asegúrate también que la factorización que obtienes es correcta."
   ]
  },
  {
   "cell_type": "code",
   "execution_count": 20,
   "metadata": {},
   "outputs": [
    {
     "name": "stdout",
     "output_type": "stream",
     "text": [
      "-36 + 72*sqrt(73)\n",
      "{97: 1, 2: 4, 3: 5, -1: 1}\n",
      "-487/2 + 57*sqrt(73)/2\n",
      "-487/2 + 57*sqrt(73)/2\n"
     ]
    }
   ],
   "source": [
    "b = (1+sqrt(g))*(1-2*sqrt(g))*(Rational(1,2)-Rational(1,2)*sqrt(g))\n",
    "print simplify(b)\n",
    "\n",
    "# Calculamos la norma y dividimos por el primer elemento\n",
    "# las dos veces que es posible\n",
    "print factorint(norma(b,g))\n",
    "f1 = filter(lambda h: divide(b,h,g), (connorma(-2,g) + connorma(2,g)))[0]\n",
    "b2 = cociente(cociente(b,f1,g),f1,g)\n",
    "print f1\n",
    "print f1"
   ]
  },
  {
   "cell_type": "code",
   "execution_count": 25,
   "metadata": {},
   "outputs": [
    {
     "name": "stdout",
     "output_type": "stream",
     "text": [
      "-57*sqrt(73)/2 - 487/2\n",
      "-57*sqrt(73)/2 - 487/2\n"
     ]
    }
   ],
   "source": [
    "# De nuevo el siguiente factor de norma 2 divide dos veces\n",
    "f2 = filter(lambda h: divide(b2,h,g), (connorma(-2,g) + connorma(2,g)))[0]\n",
    "b3 = cociente(cociente(b2,f2,g), f2,g)\n",
    "print f2\n",
    "print f2"
   ]
  },
  {
   "cell_type": "code",
   "execution_count": 30,
   "metadata": {},
   "outputs": [
    {
     "name": "stdout",
     "output_type": "stream",
     "text": [
      "-17 + 2*sqrt(73)\n",
      "-17 + 2*sqrt(73)\n"
     ]
    }
   ],
   "source": [
    "f3 = filter(lambda h: divide(b3,h,g), (connorma(-3,g) + connorma(3,g)))[0]\n",
    "b4 = cociente(cociente(b3,f3,g),f3,g)\n",
    "print f3\n",
    "print f3"
   ]
  },
  {
   "cell_type": "code",
   "execution_count": 35,
   "metadata": {},
   "outputs": [
    {
     "name": "stdout",
     "output_type": "stream",
     "text": [
      "-2*sqrt(73) - 17\n",
      "-2*sqrt(73) - 17\n",
      "-2*sqrt(73) - 17\n"
     ]
    }
   ],
   "source": [
    "# Tenemos un factor de módulo 3 que divide tres veces\n",
    "f4 = filter(lambda h: divide(b4,h,g), (connorma(-3,g) + connorma(3,g)))[0]\n",
    "b5 = cociente(cociente(cociente(b4,f4,g),f4,g),f4,g)\n",
    "print f4\n",
    "print f4\n",
    "print f4"
   ]
  },
  {
   "cell_type": "code",
   "execution_count": 37,
   "metadata": {},
   "outputs": [
    {
     "name": "stdout",
     "output_type": "stream",
     "text": [
      "504 + 59*sqrt(73)\n"
     ]
    }
   ],
   "source": [
    "# Buscamos el de módulo 97\n",
    "f5 = filter(lambda h: divide(b5,h,g), (connorma(-97,g) + connorma(97,g)))[0]\n",
    "b6 = cociente(b5,f5,g)\n",
    "print f5"
   ]
  },
  {
   "cell_type": "code",
   "execution_count": 41,
   "metadata": {},
   "outputs": [
    {
     "name": "stdout",
     "output_type": "stream",
     "text": [
      "True\n"
     ]
    },
    {
     "data": {
      "text/plain": [
       "-36 + 72*sqrt(73)"
      ]
     },
     "execution_count": 41,
     "metadata": {},
     "output_type": "execute_result"
    }
   ],
   "source": [
    "# Y comprobamos la factorización\n",
    "print es_unidad(b6,g)\n",
    "simplify(f1*f1*f2*f2*f3*f3*f4*f4*f4*f5*b6)"
   ]
  },
  {
   "cell_type": "markdown",
   "metadata": {},
   "source": [
    "** Ejercicio 8 (Avanzado).-** Define una función <span style=\"color:red\">factoriza($\\alpha$,d)</span> para factorizar un elemento $\\alpha$ en el anillo de enteros de $\\mathbb Q (\\sqrt d )$, que funcione tanto para $d<0$ como para $d>0$. Aplica esta función a los elementos factorizados en los ejercicios 6 y 7, y asegúrate de que obtienes resultados compatibles."
   ]
  },
  {
   "cell_type": "code",
   "execution_count": 43,
   "metadata": {
    "collapsed": true
   },
   "outputs": [],
   "source": [
    "from FDEMRG import factoriza"
   ]
  },
  {
   "cell_type": "code",
   "execution_count": 59,
   "metadata": {},
   "outputs": [
    {
     "name": "stdout",
     "output_type": "stream",
     "text": [
      "{-4 + sqrt(19): 1, 2*sqrt(19) + 9: 2, -3742*sqrt(19) + 16311: 1, -3*sqrt(19) - 13: 1, 4 + sqrt(19): 3}\n",
      "-39*sqrt(19) - 93\n"
     ]
    }
   ],
   "source": [
    "# Primera factorización\n",
    "factorizacion = factoriza(a,19)\n",
    "print factorizacion\n",
    "# Comprueba la primera factorización\n",
    "ag = simplify(reduce(lambda x,y: x*y, [k**v for k,v in factorizacion.items()]))\n",
    "print ag"
   ]
  },
  {
   "cell_type": "code",
   "execution_count": 44,
   "metadata": {},
   "outputs": [
    {
     "name": "stdout",
     "output_type": "stream",
     "text": [
      "{-103 + 12*sqrt(73): 1, -11*sqrt(73) + 94: 3, -9/2 - sqrt(73)/2: 2, -94 - 11*sqrt(73): 2, -sqrt(73)/2 + 9/2: 2}\n"
     ]
    }
   ],
   "source": [
    "# Segunda factorización\n",
    "factorizacion2 = factoriza(b,g)\n",
    "print factorizacion2"
   ]
  },
  {
   "cell_type": "code",
   "execution_count": 49,
   "metadata": {},
   "outputs": [
    {
     "name": "stdout",
     "output_type": "stream",
     "text": [
      "-695448 + 81396*sqrt(73)\n"
     ]
    }
   ],
   "source": [
    "# Comprueba la segunda factorización\n",
    "h = simplify(reduce(lambda x,y: x*y, [k**v for k,v in factorizacion2.items()]))\n",
    "print h"
   ]
  },
  {
   "cell_type": "code",
   "execution_count": 54,
   "metadata": {},
   "outputs": [
    {
     "name": "stdout",
     "output_type": "stream",
     "text": [
      "True\n",
      "True\n",
      "-125*sqrt(73) - 1068\n"
     ]
    },
    {
     "data": {
      "text/plain": [
       "-36 + 72*sqrt(73)"
      ]
     },
     "execution_count": 54,
     "metadata": {},
     "output_type": "execute_result"
    }
   ],
   "source": [
    "# No parecen iguales, pero podemos comprobar que son asociados por una unidad\n",
    "print divide(h,b,g)\n",
    "print divide(b,h,g)\n",
    "print cociente(b,h,g)\n",
    "fu = cociente(b,h,g)\n",
    "simplify(h * fu)"
   ]
  },
  {
   "cell_type": "markdown",
   "metadata": {
    "collapsed": true
   },
   "source": [
    "## Nota:\n",
    "\n",
    "Comprueba que la función <span style=\"color:red\">factoriza($\\alpha$,d)</span> funciona tanto para $d$ positivo como negativo. Coge los ejemplos de la práctica anterior y mira que se obtiene el mismo resultado."
   ]
  },
  {
   "cell_type": "code",
   "execution_count": 67,
   "metadata": {},
   "outputs": [
    {
     "data": {
      "text/plain": [
       "{-1 + I: 2, -1 + 2*I: 1}"
      ]
     },
     "execution_count": 67,
     "metadata": {},
     "output_type": "execute_result"
    }
   ],
   "source": [
    "# Primer ejemplo de la otra práctica.\n",
    "# Salvo asociados triviales, tenemos la misma descomposición.\n",
    "# Nótese que los resultados son distintos porque en la nueva implementación\n",
    "# hemos cambiado el orden en el que probamos factores, pero son siempre\n",
    "# asociados.\n",
    "da = -1\n",
    "alpha = (1+sqrt(da))*(1-sqrt(da))*(2+sqrt(da))\n",
    "factoriza(alpha, da)"
   ]
  },
  {
   "cell_type": "code",
   "execution_count": 68,
   "metadata": {},
   "outputs": [
    {
     "data": {
      "text/plain": [
       "{5/2 + sqrt(3)*I/2: 1, 2: 1, 1 - 2*sqrt(3)*I: 1}"
      ]
     },
     "execution_count": 68,
     "metadata": {},
     "output_type": "execute_result"
    }
   ],
   "source": [
    "# Segundo ejemplo de la otra práctica\n",
    "da = -3\n",
    "alpha = (2-sqrt(da))*(1-2*sqrt(da))*(1+sqrt(da))\n",
    "factoriza(alpha, da)"
   ]
  },
  {
   "cell_type": "code",
   "execution_count": 76,
   "metadata": {},
   "outputs": [
    {
     "name": "stdout",
     "output_type": "stream",
     "text": [
      "True\n",
      "True\n",
      "True\n",
      "True\n"
     ]
    }
   ],
   "source": [
    "# Devuelve la misma factorización salvo estos asociados.\n",
    "# Comprobamos que son efectivamente asociados\n",
    "asoc1 = 1 - 2*sqrt(-3)\n",
    "asoc2 = Rational(-1,2) - Rational(3,2)*sqrt(-3)\n",
    "asoc3 = Rational(5,2) + Rational(1,2)*sqrt(-3)\n",
    "asoc4 = Rational(5,2) + Rational(3,2)*sqrt(-3)\n",
    "print divide(asoc1,asoc4,da)\n",
    "print divide(asoc4,asoc1,da)\n",
    "print divide(asoc3,asoc2,da)\n",
    "print divide(asoc2,asoc3,da)"
   ]
  },
  {
   "cell_type": "code",
   "execution_count": null,
   "metadata": {
    "collapsed": true
   },
   "outputs": [],
   "source": []
  }
 ],
 "metadata": {
  "kernelspec": {
   "display_name": "Python 2",
   "language": "python2",
   "name": "python2"
  },
  "language_info": {
   "codemirror_mode": {
    "name": "ipython",
    "version": 2
   },
   "file_extension": ".py",
   "mimetype": "text/x-python",
   "name": "python",
   "nbconvert_exporter": "python",
   "pygments_lexer": "ipython2",
   "version": "2.7.13"
  }
 },
 "nbformat": 4,
 "nbformat_minor": 1
}
