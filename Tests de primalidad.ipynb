{
 "cells": [
  {
   "cell_type": "markdown",
   "metadata": {},
   "source": [
    "# Tests de primalidad\n",
    "\n",
    "## Pseudoprimalidad\n",
    "\n",
    "Para cada $a < n$, calculamos $gcd(a,n)$. Si no es $1$, o si $a^{n-1} \\not\\equiv_n 1$, devuelve falso. Sólo en caso contrario devuelve verdadero.\n",
    "\n",
    "Los números de Carmichael son aquellos que, para cualquier coprimo, cumplen que $a^{n-1} \\equiv_n 1$."
   ]
  },
  {
   "cell_type": "code",
   "execution_count": 1,
   "metadata": {
    "collapsed": false
   },
   "outputs": [],
   "source": [
    "# Fija una semilla de aleatoriedad para asegurarse de\n",
    "# la reproducibilidad de los tests\n",
    "import random\n",
    "random.seed(1)"
   ]
  },
  {
   "cell_type": "code",
   "execution_count": 2,
   "metadata": {
    "collapsed": true
   },
   "outputs": [],
   "source": [
    "from sympy import *\n",
    "\n",
    "def isPseudoprime(a,n):\n",
    "    \n",
    "    \"\"\"Comprueba si a es pseudoprimo módulo n. El argumento\n",
    "    debe ser un entero.\"\"\"\n",
    "    \n",
    "    return gcd(a,n) == 1 and pow(a,n-1,n) == 1\n",
    "\n",
    "def pspTest(n, times=1):\n",
    "    \n",
    "    \"\"\"Realiza un test de pseudoprimalidad sobre n usando\n",
    "    como base un número aleatorio entre 2 y n. El argumento\n",
    "    debe ser un entero mayor que 2. Opcionalmente se puede\n",
    "    indicar el número de veces que puede realizarse.\"\"\"\n",
    "    \n",
    "    # Repite el test hasta que encuentra un número contra el\n",
    "    # que no es pseudoprimo. Sólo devuelve verdadero si no encuentra\n",
    "    # ningún número en el test.\n",
    "    for _ in xrange(times):\n",
    "        a = random.randint(2,n-1)\n",
    "        \n",
    "        if not isPseudoprime(a,n):\n",
    "            return False, a\n",
    "    \n",
    "    return True"
   ]
  },
  {
   "cell_type": "code",
   "execution_count": 3,
   "metadata": {
    "collapsed": false
   },
   "outputs": [
    {
     "data": {
      "text/plain": [
       "True"
      ]
     },
     "execution_count": 3,
     "metadata": {},
     "output_type": "execute_result"
    }
   ],
   "source": [
    "pspTest(19,10)"
   ]
  },
  {
   "cell_type": "markdown",
   "metadata": {},
   "source": [
    "## Símbolos de Jacobi y Legendre\n",
    "\n",
    "#### Símbolo de Legendre\n",
    "El símbolo de Legendre se define como:\n",
    "\n",
    "$$\n",
    "\\left(\\frac{a}{p}\\right) = \\left\\{\n",
    "\\begin{array}{rl}\n",
    "0 & \\text{si } a \\equiv 0 \\pmod{p},\\\\\n",
    "1 & \\text{si } a \\not\\equiv 0\\pmod{p} \\text{ y es residuo cuadrático: } \\;a\\equiv x^2\\pmod{p},\\\\\n",
    "-1 & \\text{si } a \\not\\equiv 0\\pmod{p} \\text{ y no es residuo cuadrático.}\n",
    "\\end{array}\n",
    "\\right.\n",
    "$$\n",
    "\n",
    "#### Símbolo de Jacobi\n",
    "El símbolo de Jacobi se define como:\n",
    "\n",
    "$$\n",
    "\\left(\\frac{a}{n}\\right) = \\left(\\frac{a}{p_1}\\right)^{\\alpha_1}\\left(\\frac{a}{p_2}\\right)^{\\alpha_2}\\cdots \\left(\\frac{a}{p_k}\\right)^{\\alpha_k}\n",
    "$$\n",
    "\n",
    "Siendo $n=p_1^{\\alpha_1}p_2^{\\alpha_2}\\cdots p_k^{\\alpha_k}$ la factorización de $n$.\n",
    "\n",
    "#### Ley de reciprocidad cuadrática y propiedades\n",
    "Tanto el símbolo de Jacobi como el símbolo de Legendre cumplen que:\n",
    "\n",
    "$$\n",
    "\\left(\\frac{m}{n}\\right)\\left(\\frac{n}{m}\\right) = (-1)^{\\tfrac{m-1}{2}\\cdot\\tfrac{n-1}{2}}\n",
    "$$\n",
    "\n",
    "Usaremos además las siguientes propiedades para su cálculo:\n",
    "\n",
    "  - $\\left(\\frac{m}{n}\\right) = \\left(\\frac{m+kn}{n}\\right)$, para reducir el \"numerador\".\n",
    "  - $\\left(\\frac{2}{n}\\right) = (-1)^{\\frac{n^2-1}{8}}$\n",
    "  - $\\left(\\frac{1}{n}\\right) = 1$, caso base de recursión."
   ]
  },
  {
   "cell_type": "code",
   "execution_count": 1,
   "metadata": {
    "collapsed": true
   },
   "outputs": [],
   "source": [
    "# Utiliza funciones de la librería sympy\n",
    "from sympy import gcd\n",
    "from sympy.ntheory.factor_ import factorint\n",
    "\n",
    "def jacobiSym(m,n):\n",
    "    \n",
    "    \"\"\"Calcula el símbolo de Jacobi de dos enteros. El segundo de ellos\n",
    "    no debe ser par.\"\"\"\n",
    "    \n",
    "    # Trabaja en módulo n\n",
    "    m = m % n\n",
    "    \n",
    "    # Caso base, no son coprimos\n",
    "    if gcd(m,n) != 1:\n",
    "        return 0\n",
    "    \n",
    "    # Caso base, 1 es un residuo cuadrático \n",
    "    if m == 1:\n",
    "        return 1\n",
    "    \n",
    "    # Caso recursivo, m divisible entre 2\n",
    "    if m % 2 == 0:\n",
    "        return pow(-1, (n**2-1)/8) * jacobiSym(m/2, n)\n",
    "    \n",
    "    # Caso recursivo, ley de reciprocidad cuadrática\n",
    "    return pow(-1, ((m-1)*(n-1))/4) * jacobiSym(n,m)"
   ]
  },
  {
   "cell_type": "code",
   "execution_count": 15,
   "metadata": {
    "collapsed": false
   },
   "outputs": [
    {
     "data": {
      "text/plain": [
       "-1"
      ]
     },
     "execution_count": 15,
     "metadata": {},
     "output_type": "execute_result"
    }
   ],
   "source": [
    "jacobiSym(30, 100000001)"
   ]
  },
  {
   "cell_type": "markdown",
   "metadata": {},
   "source": [
    "## Pseudoprimos de Euler\n",
    "\n",
    "Un número es pseudoprimo de Euler respecto de la base $b$, con $mcd(n,b) = 1$ coprimos si cumple que:"
   ]
  },
  {
   "cell_type": "code",
   "execution_count": 8,
   "metadata": {
    "collapsed": true
   },
   "outputs": [],
   "source": [
    "def eulerPseudoprime(n,b):\n",
    "    \n",
    "    \"\"\"Comprueba si n es un pseudoprimo de Euler en la base.\"\"\"\n",
    "    \n",
    "    # Eliminamos el caso trivial 2\n",
    "    if (n%2 == 0): return 2,False\n",
    "    \n",
    "    # Comprueba que sean coprimos\n",
    "    d = gcd(n,b)\n",
    "    if (d != 1): return d,False\n",
    "    \n",
    "    # Comprueba pseudoprimalidad con el símbolo de Jacobi\n",
    "    return b, pow(b,(n-1)/2,n) == jacobiSym(n,b)"
   ]
  }
 ],
 "metadata": {
  "kernelspec": {
   "display_name": "Python 2",
   "language": "python2",
   "name": "python2"
  },
  "language_info": {
   "codemirror_mode": {
    "name": "ipython",
    "version": 2
   },
   "file_extension": ".py",
   "mimetype": "text/x-python",
   "name": "python",
   "nbconvert_exporter": "python",
   "pygments_lexer": "ipython2",
   "version": "2.7.13"
  }
 },
 "nbformat": 4,
 "nbformat_minor": 2
}
