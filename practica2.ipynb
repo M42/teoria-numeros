{
 "cells": [
  {
   "cell_type": "markdown",
   "metadata": {},
   "source": [
    "# 1. Codificación con RSA\n",
    "\n",
    "Vamos a escribir funciones de codificación y decodificación usando el algoritmo RSA."
   ]
  },
  {
   "cell_type": "code",
   "execution_count": 3,
   "metadata": {
    "collapsed": true
   },
   "outputs": [],
   "source": [
    "# Importamos nuestro módulo de funciones\n",
    "from criptoMRG import *\n",
    "# Importamos el módulo de cálculo simbólico sympy\n",
    "from sympy import *"
   ]
  },
  {
   "cell_type": "markdown",
   "metadata": {},
   "source": [
    "### 1.1. Implementación\n",
    "\n",
    "El algoritmo RSA usará tres parámetros:\n",
    "\n",
    "  1. $x$, entrada al algoritmo.\n",
    "  2. $n$, módulo con el que trabajamos. \n",
    "  3. $e$, exponente, primo relativo con $\\phi(n)$.\n",
    "\n",
    "Y calculará $x^e \\mod n$ para codificar."
   ]
  },
  {
   "cell_type": "code",
   "execution_count": 4,
   "metadata": {
    "collapsed": false
   },
   "outputs": [],
   "source": [
    "def rsa(x,n,e):\n",
    "    # Usaremos `pow`, que utiliza internamente un algoritmo de\n",
    "    # exponenciación rápida.\n",
    "    return pow(x,e,n)"
   ]
  },
  {
   "cell_type": "markdown",
   "metadata": {},
   "source": [
    "### 1.2. Ejemplo de codificación"
   ]
  },
  {
   "cell_type": "code",
   "execution_count": 34,
   "metadata": {
    "collapsed": false
   },
   "outputs": [
    {
     "data": {
      "text/plain": [
       "252634961"
      ]
     },
     "execution_count": 34,
     "metadata": {},
     "output_type": "execute_result"
    }
   ],
   "source": [
    "# Definimos dos primos para usarlos en RSA\n",
    "p = prime(1550)\n",
    "q = prime(2200)\n",
    "n = p*q\n",
    "p,q\n",
    "n"
   ]
  },
  {
   "cell_type": "code",
   "execution_count": 6,
   "metadata": {
    "collapsed": false
   },
   "outputs": [
    {
     "data": {
      "text/plain": [
       "1"
      ]
     },
     "execution_count": 6,
     "metadata": {},
     "output_type": "execute_result"
    }
   ],
   "source": [
    "# Y definimos un exponente, que debe ser primo relativo con phi(n).\n",
    "e = 1871\n",
    "phi = (p-1)*(q-1)\n",
    "gcd(phi,e)"
   ]
  },
  {
   "cell_type": "code",
   "execution_count": 37,
   "metadata": {
    "collapsed": false
   },
   "outputs": [
    {
     "data": {
      "text/plain": [
       "94559265"
      ]
     },
     "execution_count": 37,
     "metadata": {},
     "output_type": "execute_result"
    }
   ],
   "source": [
    "rsa(141852963,n,e)"
   ]
  },
  {
   "cell_type": "markdown",
   "metadata": {},
   "source": [
    "### 1.3. Ejemplo de decodificación "
   ]
  },
  {
   "cell_type": "code",
   "execution_count": 54,
   "metadata": {
    "collapsed": true
   },
   "outputs": [],
   "source": [
    "def rsaDecWithN(y,n,e):\n",
    "    # Calculamos la función phi de Euler, y lo utilizamos para\n",
    "    # calcular los coeficientes de Bezout.\n",
    "    phi = totient(n)\n",
    "    (u,v,c) = gcdex(e,phi)\n",
    "    return pow(y,long(u)%phi,n)"
   ]
  },
  {
   "cell_type": "code",
   "execution_count": 59,
   "metadata": {
    "collapsed": false
   },
   "outputs": [
    {
     "data": {
      "text/plain": [
       "12341234L"
      ]
     },
     "execution_count": 59,
     "metadata": {},
     "output_type": "execute_result"
    }
   ],
   "source": [
    "# Nótese que para funcionar, el número a codificar debe ser menor\n",
    "# que el n que estamos usando\n",
    "rsaDecWithN(rsa(12341234,n,e),n,e)"
   ]
  },
  {
   "cell_type": "markdown",
   "metadata": {},
   "source": [
    "# 2. Vigenère\n",
    "\n",
    "Implementamos la codificación de Vigenère. Para ello tomamos una matriz\n",
    "e implementamos las funciones que la usan para codificar y decodificar consultando la posición de cada par de letras en filas y columnas."
   ]
  },
  {
   "cell_type": "code",
   "execution_count": 72,
   "metadata": {
    "collapsed": true
   },
   "outputs": [],
   "source": [
    "# Matriz de codificación\n",
    "matriz = [\n",
    "    ['a','e','i','o','u'],\n",
    "    ['e','i','o','u','a'],\n",
    "    ['u','a','e','i','o'],\n",
    "    ['i','o','u','a','e'],\n",
    "    ['o','u','a','e','i'],\n",
    "]"
   ]
  },
  {
   "cell_type": "markdown",
   "metadata": {},
   "source": [
    "### 2.1. Codificación"
   ]
  },
  {
   "cell_type": "code",
   "execution_count": 88,
   "metadata": {
    "collapsed": true
   },
   "outputs": [],
   "source": [
    "from itertools import cycle\n",
    "\n",
    "def vigenere(mensaje, matriz, clave):\n",
    "    # Busca en la matriz la posición correspondiente al par de letras\n",
    "    def codificaletra((a,b)):\n",
    "        c = matriz[0].index(a)\n",
    "        r = [fila[0] for fila in matriz].index(b)\n",
    "        return matriz[r][c]\n",
    "    \n",
    "    # Codificamos cada letra emparejada con la clave\n",
    "    cod = map(codificaletra, zip(mensaje,cycle(clave)))\n",
    "    \n",
    "    # La presentamos como una cadena en lugar de una lista\n",
    "    return ''.join(cod) "
   ]
  },
  {
   "cell_type": "code",
   "execution_count": 89,
   "metadata": {
    "collapsed": false
   },
   "outputs": [
    {
     "data": {
      "text/plain": [
       "'iaouuuoa'"
      ]
     },
     "execution_count": 89,
     "metadata": {},
     "output_type": "execute_result"
    }
   ],
   "source": [
    "vigenere(\"aueioieu\",matriz,\"iei\")"
   ]
  },
  {
   "cell_type": "markdown",
   "metadata": {},
   "source": [
    "### 2.2. Decodificación"
   ]
  },
  {
   "cell_type": "code",
   "execution_count": 90,
   "metadata": {
    "collapsed": true
   },
   "outputs": [],
   "source": [
    "def vigenereDec(mensajecodificado, matriz, clave):\n",
    "    def decodificaletra((c,b)):\n",
    "        r = [fila[0] for fila in matriz].index(b)\n",
    "        d = matriz[r].index(c)\n",
    "        return matriz[0][d]\n",
    "    \n",
    "    # Decodificamos cada letra emparejada con la clave\n",
    "    decod = map(decodificaletra, zip(mensajecodificado,cycle(clave)))\n",
    "    \n",
    "    # La presentamos como cadena en lugar de una lista\n",
    "    return ''.join(decod)"
   ]
  },
  {
   "cell_type": "code",
   "execution_count": 91,
   "metadata": {
    "collapsed": false
   },
   "outputs": [
    {
     "data": {
      "text/plain": [
       "'aueioieu'"
      ]
     },
     "execution_count": 91,
     "metadata": {},
     "output_type": "execute_result"
    }
   ],
   "source": [
    "vigenereDec(\"iaouuuoa\",matriz,\"iei\")"
   ]
  },
  {
   "cell_type": "markdown",
   "metadata": {},
   "source": [
    "# 3. Imágenes"
   ]
  },
  {
   "cell_type": "code",
   "execution_count": 68,
   "metadata": {
    "collapsed": false
   },
   "outputs": [],
   "source": [
    "# Usamos el módulo de tratamiento de imágenes PIL.\n",
    "from PIL import Image\n",
    "from numpy import array"
   ]
  },
  {
   "cell_type": "code",
   "execution_count": 69,
   "metadata": {
    "collapsed": false
   },
   "outputs": [
    {
     "data": {
      "image/png": "[encoded data removed]",
      "text/plain": [
       "<PIL.PngImagePlugin.PngImageFile image mode=RGBA size=128x128 at 0x7F25692A4950>"
      ]
     },
     "execution_count": 69,
     "metadata": {},
     "output_type": "execute_result"
    }
   ],
   "source": [
    "imag = Image.open('./lock.png')\n",
    "imag"
   ]
  },
  {
   "cell_type": "code",
   "execution_count": 103,
   "metadata": {
    "collapsed": false
   },
   "outputs": [],
   "source": [
    "# Dada una imagen, la copia y modifica cada entrada de su matriz\n",
    "# para obtener el negativo de la imagen.\n",
    "def Negativo(imagen):\n",
    "    imagenaux = imagen.copy()\n",
    "    matrizaux = imagenaux.load()\n",
    "    \n",
    "    (n,m) = imagen.size\n",
    "    for i in range(n):\n",
    "        for j in range(m):\n",
    "            (r,g,b,t) = matrizaux[i,j]\n",
    "            matrizaux[i,j] = (-r % 256, -g % 256,-b % 256,t)\n",
    "    \n",
    "    return imagenaux"
   ]
  },
  {
   "cell_type": "code",
   "execution_count": 106,
   "metadata": {
    "collapsed": false
   },
   "outputs": [
    {
     "data": {
      "image/png": "[encoded data removed]",
      "text/plain": [
       "<PIL.Image.Image image mode=RGBA size=128x128 at 0x7F25692A4810>"
      ]
     },
     "execution_count": 106,
     "metadata": {},
     "output_type": "execute_result"
    }
   ],
   "source": [
    "Negativo(imag)"
   ]
  },
  {
   "cell_type": "code",
   "execution_count": 110,
   "metadata": {
    "collapsed": false
   },
   "outputs": [],
   "source": [
    "Negativo(imag).save(\"lock_negative.png\", \"PNG\")"
   ]
  },
  {
   "cell_type": "markdown",
   "metadata": {},
   "source": [
    "# 4. Codificación Afín"
   ]
  },
  {
   "cell_type": "code",
   "execution_count": 111,
   "metadata": {
    "collapsed": true
   },
   "outputs": [],
   "source": [
    "def codAfin(imagen, b, c):\n",
    "    imagenaux = imagen.copy()\n",
    "    matrizaux = imagenaux.load()\n",
    "    \n",
    "    (n,m) = imagen.size()\n",
    "    for i in range(n):\n",
    "        for j in range(m):\n",
    "            (r,g,b,t) = matrizaux[i,j]\n",
    "            \n",
    "            # codificación afín\n",
    "            (rw,gw,bw) = b*v + c\n",
    "            \n",
    "            matrizaux[i,j] = (rw,gw,bw,t)"
   ]
  }
 ],
 "metadata": {
  "kernelspec": {
   "display_name": "Python 2",
   "language": "python2",
   "name": "python2"
  },
  "language_info": {
   "codemirror_mode": {
    "name": "ipython",
    "version": 2
   },
   "file_extension": ".py",
   "mimetype": "text/x-python",
   "name": "python",
   "nbconvert_exporter": "python",
   "pygments_lexer": "ipython2",
   "version": "2.7.13"
  }
 },
 "nbformat": 4,
 "nbformat_minor": 2
}
